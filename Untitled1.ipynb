{
  "nbformat": 4,
  "nbformat_minor": 0,
  "metadata": {
    "colab": {
      "name": "Untitled1.ipynb",
      "provenance": [],
      "mount_file_id": "1uFO6osDHUzouhB2WPFGl47bNARk-BTvB",
      "authorship_tag": "ABX9TyOMMTYkqOHQ/S/WnyTryqYC",
      "include_colab_link": true
    },
    "kernelspec": {
      "name": "python3",
      "display_name": "Python 3"
    },
    "accelerator": "GPU"
  },
  "cells": [
    {
      "cell_type": "markdown",
      "metadata": {
        "id": "view-in-github",
        "colab_type": "text"
      },
      "source": [
        "<a href=\"https://colab.research.google.com/github/shimizu223/chopinmazr/blob/main/Untitled1.ipynb\" target=\"_parent\"><img src=\"https://colab.research.google.com/assets/colab-badge.svg\" alt=\"Open In Colab\"/></a>"
      ]
    },
    {
      "cell_type": "code",
      "metadata": {
        "colab": {
          "base_uri": "https://localhost:8080/",
          "height": 36
        },
        "id": "DKhCQKAx9z-f",
        "outputId": "2b590664-2086-4008-a393-db5ce52bb3e8"
      },
      "source": [
        "import tensorflow as tf\r\n",
        "tf.test.gpu_device_name()"
      ],
      "execution_count": null,
      "outputs": [
        {
          "output_type": "execute_result",
          "data": {
            "application/vnd.google.colaboratory.intrinsic+json": {
              "type": "string"
            },
            "text/plain": [
              "'/device:GPU:0'"
            ]
          },
          "metadata": {
            "tags": []
          },
          "execution_count": 88
        }
      ]
    },
    {
      "cell_type": "markdown",
      "metadata": {
        "id": "Pntah2easRc9"
      },
      "source": [
        "必要なパッケージのインポート"
      ]
    },
    {
      "cell_type": "code",
      "metadata": {
        "id": "zZ1j5Z4l95ij"
      },
      "source": [
        "from music21 import *\r\n",
        "import glob\r\n",
        "import re\r\n",
        "import numpy as np\r\n",
        "import random\r\n",
        "import pathlib\r\n",
        "from decimal import Decimal"
      ],
      "execution_count": null,
      "outputs": []
    },
    {
      "cell_type": "markdown",
      "metadata": {
        "id": "G0MkVYyosXgX"
      },
      "source": [
        "ファイルを読み込む。データはここからhttp://kern.humdrum.org/search?s=t&keyword=Chopin"
      ]
    },
    {
      "cell_type": "code",
      "metadata": {
        "id": "6TehkVFW-BsM"
      },
      "source": [
        "files = glob.glob(\"/content/drive/MyDrive/Colab Notebooks/train_data/*\")"
      ],
      "execution_count": null,
      "outputs": []
    },
    {
      "cell_type": "markdown",
      "metadata": {
        "id": "bpWRTQ1as_hl"
      },
      "source": [
        "楽譜ファイルから小節だけを取り出す関数。\r\n",
        "ト音記号とヘ音記号を別々に学習させているので、必要な方を取り出す。\r\n",
        "ト音記号が<music21.stream.Part spine_1>、\r\n",
        "ヘ音記号が<music21.stream.Part spine_0>"
      ]
    },
    {
      "cell_type": "code",
      "metadata": {
        "id": "3hPwc2Gt-0yO"
      },
      "source": [
        "def Ts_load(file):\r\n",
        "    Msure = []\r\n",
        "\r\n",
        "    for i in file:\r\n",
        "            if str(i) == '<music21.stream.Part spine_0>':\r\n",
        "                part = i\r\n",
        "                for n in part:\r\n",
        "                    if isinstance(n, stream.Measure) and n.quarterLength >= 3:\r\n",
        "                        Msure.append(n)\r\n",
        "                break\r\n",
        "    return Msure"
      ],
      "execution_count": null,
      "outputs": []
    },
    {
      "cell_type": "markdown",
      "metadata": {
        "id": "FOPrUkE5tKnb"
      },
      "source": [
        "1小節を16分音符(0.25秒)のみで表現する。マズルカは4分の3拍子なので16分音符が4個×3の計12個という形になる。tone_load関数は連符、32分音符16分音符で表現できるように音符の長さを調節する。make_input_data関数は1小節あたり4*3の配列に保存する。"
      ]
    },
    {
      "cell_type": "code",
      "metadata": {
        "id": "LyttH8PK-10A"
      },
      "source": [
        "def tone_load(Ts_notes):\r\n",
        "    for cho in Ts_notes:\r\n",
        "        \r\n",
        "        flag = True\r\n",
        "        \r\n",
        "        for notes in cho:\r\n",
        "            \r\n",
        "            if isinstance(notes, stream.Voice):\r\n",
        "                \r\n",
        "                flag = False\r\n",
        "                \r\n",
        "                for no in notes:\r\n",
        "                    if no.quarterLength % 0.25 != 0.0:\r\n",
        "                                        \r\n",
        "                        if no.quarterLength < 0.35:\r\n",
        "                            no.quarterLength = 0.25\r\n",
        "                            \r\n",
        "                        elif no.quarterLength < 0.65:\r\n",
        "                            no.quarterLength = 0.25\r\n",
        "                        \r\n",
        "                        elif no.quarterLength < 1.0:\r\n",
        "                            no.quarterLength = 0.75\r\n",
        "                            \r\n",
        "\r\n",
        "                sumn = Decimal(0)\r\n",
        "                max_note = 0\r\n",
        "                min_note = 0\r\n",
        "                for i in notes:\r\n",
        "                    sumn += Decimal(str(i.quarterLength))\r\n",
        "                while sumn != 3.0:\r\n",
        "                    maxn = 0\r\n",
        "                    minn = 100\r\n",
        "                    if sumn > 3:\r\n",
        "                        for i in range(len(notes)):\r\n",
        "                            if isinstance(notes[i],note.Note) or isinstance(notes[i],chord.Chord) or isinstance(notes[i],note.Rest):\r\n",
        "                                if notes[i].quarterLength > maxn:\r\n",
        "                                    maxn = notes[i].quarterLength\r\n",
        "                                    max_note = i\r\n",
        "                        notes[max_note].quarterLength = notes[max_note].quarterLength - 0.25\r\n",
        "                    elif sumn < 3:\r\n",
        "                        for i in range(len(notes)):\r\n",
        "                            if isinstance(notes[i],note.Note) or isinstance(notes[i],chord.Chord) or isinstance(notes[i],note.Rest):\r\n",
        "                                if notes[i].quarterLength < 1.0 and notes[i].quarterLength < minn:\r\n",
        "                                    minn = notes[i].quarterLength\r\n",
        "                                    min_note = i\r\n",
        "                        notes[min_note].quarterLength = notes[min_note].quarterLength + 0.25\r\n",
        "                    sumn = Decimal(0)\r\n",
        "                    for i in notes:\r\n",
        "                        sumn += Decimal(str(i.quarterLength))\r\n",
        "                        \r\n",
        "            if isinstance(notes,note.Note) or isinstance(notes,chord.Chord) or isinstance(notes,note.Rest):\r\n",
        "                if notes.quarterLength % 0.25 != 0.0:\r\n",
        "                                        \r\n",
        "                    if notes.quarterLength < 0.35:\r\n",
        "                        notes.quarterLength = 0.25\r\n",
        "                            \r\n",
        "                    elif notes.quarterLength < 0.65:\r\n",
        "                        notes.quarterLength = 0.5\r\n",
        "                        \r\n",
        "                    elif notes.quarterLength < 1.0:\r\n",
        "                        notes.quarterLength = 0.75\r\n",
        "                        \r\n",
        "        if flag:                \r\n",
        "            max_note = 0\r\n",
        "            min_note = 0\r\n",
        "            sumn = Decimal(0)\r\n",
        "            for i in cho:\r\n",
        "                sumn += Decimal(str(i.quarterLength))\r\n",
        "\r\n",
        "            while sumn != 3:\r\n",
        "                maxn = 0\r\n",
        "                minn = 100\r\n",
        "                if sumn > 3:\r\n",
        "                    for i in range(len(cho)):\r\n",
        "                        if isinstance(cho[i],note.Note) or isinstance(cho[i],chord.Chord) or isinstance(cho[i],note.Rest):\r\n",
        "                            if cho[i].quarterLength > maxn:\r\n",
        "                                maxn = cho[i].quarterLength\r\n",
        "                                max_note = i\r\n",
        "                    cho[max_note].quarterLength = cho[max_note].quarterLength - 0.25\r\n",
        "                if sumn < 3:\r\n",
        "                    for i in range(len(cho)):\r\n",
        "                        if isinstance(cho[i],note.Note) or isinstance(cho[i],chord.Chord) or isinstance(cho[i],note.Rest):\r\n",
        "                            if cho[i].quarterLength < 1.0 and cho[i].quarterLength < minn:\r\n",
        "                                minn = cho[i].quarterLength\r\n",
        "                                min_note = i\r\n",
        "                    cho[min_note].quarterLength = cho[min_note].quarterLength + 0.25\r\n",
        "                sumn = Decimal(0)\r\n",
        "                for i in cho:\r\n",
        "                    sumn += Decimal(str(i.quarterLength))\r\n",
        "\r\n",
        "    return Ts_notes"
      ],
      "execution_count": null,
      "outputs": []
    },
    {
      "cell_type": "code",
      "metadata": {
        "id": "zUTzcObN-71S"
      },
      "source": [
        "def make_input_data(msure):\r\n",
        "    input_data = []\r\n",
        "    co = 0\r\n",
        "    for cho in msure:\r\n",
        "        for notes in cho:\r\n",
        "            \r\n",
        "            if isinstance(notes, stream.Voice):\r\n",
        "\r\n",
        "                co0 = -3\r\n",
        "                co1 = 0\r\n",
        "\r\n",
        "                for r in range(len(notes)):\r\n",
        "                    if isinstance(notes[r], note.Note):\r\n",
        "                        String_tone = str(notes[r].pitch)\r\n",
        "                    if isinstance(notes[r], chord.Chord):\r\n",
        "                        String_tone = ','.join(str(p.pitch) for p in notes[r])\r\n",
        "                    if isinstance(notes[r], note.Rest):\r\n",
        "                        String_tone = \"Rest\"\r\n",
        "                        \r\n",
        "                    p_length = int(notes[r].quarterLength*4)\r\n",
        "                    \r\n",
        "                    for n in range(p_length):\r\n",
        "                        if co % 2 == 0:\r\n",
        "                            if input_data == []:\r\n",
        "                                input_data.append([String_tone])\r\n",
        "                            elif len(input_data[-1]) < 4:\r\n",
        "                                input_data[-1].append(String_tone)\r\n",
        "                            elif len(input_data[-1]) >= 4:\r\n",
        "                                input_data.append([String_tone])\r\n",
        "                        if co % 2== 1:\r\n",
        "                            if input_data[co0][co1] == \"Rest\":\r\n",
        "                                input_data[co0][co1] = (String_tone)\r\n",
        "                            else:\r\n",
        "                                if String_tone == \"Rest\":\r\n",
        "                                    pass\r\n",
        "                                else:\r\n",
        "                                    input_data[co0][co1]  = (String_tone) + \",\" + input_data[co0][co1]\r\n",
        "                            co1 += 1\r\n",
        "                            if co1 >= 4:\r\n",
        "                                co0+= 1\r\n",
        "                                co1 = 0\r\n",
        "                                    \r\n",
        "                co += 1\r\n",
        "            \r\n",
        "            else:\r\n",
        "                \r\n",
        "                if isinstance(notes, note.Note):\r\n",
        "                    String_tone = str(notes.pitch)\r\n",
        "                if isinstance(notes, chord.Chord):\r\n",
        "                    String_tone = ','.join(str(p.pitch) for p in notes)\r\n",
        "                if isinstance(notes, note.Rest):\r\n",
        "                    String_tone = \"Rest\"\r\n",
        "                p_length = int(notes.quarterLength*4)\r\n",
        "                \r\n",
        "                for i in range(p_length):\r\n",
        "                    if input_data == []:\r\n",
        "                        input_data.append([String_tone])\r\n",
        "                    elif len(input_data[-1]) < 4:\r\n",
        "                        input_data[-1].append(String_tone)\r\n",
        "                    elif len(input_data[-1]) >= 4:\r\n",
        "                        input_data.append([String_tone])\r\n",
        "    return input_data"
      ],
      "execution_count": null,
      "outputs": []
    },
    {
      "cell_type": "markdown",
      "metadata": {
        "id": "Ndp3r1SDwNTn"
      },
      "source": [
        "フラット(半音下げる)をシャープ(半音上げる)に変える関数。"
      ]
    },
    {
      "cell_type": "code",
      "metadata": {
        "id": "j2L8CQTm-9Im"
      },
      "source": [
        "def onkai(tones2):\r\n",
        "    regex = re.compile('\\d+')\r\n",
        "    scale=[\"C\",\"D\",\"E\",\"F\",\"G\",\"A\",\"B\"]\r\n",
        "\r\n",
        "    for i in range(len(tones2)):\r\n",
        "        for r in range(len(scale)):   \r\n",
        "            if scale[r] in tones2[i] and \"-\" in tones2[i] and not \"--\" in tones2[i]:\r\n",
        "                if scale[r] == \"C\":\r\n",
        "                    number = int(regex.findall(tones2[i])[0])\r\n",
        "                    tones2[i] = tones2[i].replace(tones2[i] , \"B#\" + str(number - 1))\r\n",
        "                else:\r\n",
        "                    tones2[i] = tones2[i].replace(scale[r] + \"-\", scale[r-1] + \"#\")\r\n",
        "                    \r\n",
        "            if scale[r] in tones2[i] and \"--\" in tones2[i]:\r\n",
        "                if scale[r] == \"C\":\r\n",
        "                    number = int(regex.findall(tones2[i])[0])\r\n",
        "                    tones2[i] = tones2[i].replace(tones2[i] , \"B\" + str(number - 1))\r\n",
        "                else:\r\n",
        "                    tones2[i] = tones2[i].replace(scale[r] + \"--\", scale[r-1])\r\n",
        "                    \r\n",
        "            if scale[r] in tones2[i] and \"##\" in tones2[i]:\r\n",
        "                if scale[r] == \"B\":\r\n",
        "                    number = int(regex.findall(tones2[i])[0])\r\n",
        "                    tones2[i] = tones2[i].replace(tones2[i] , \"C\" + str(number + 1))\r\n",
        "                else:\r\n",
        "                    tones2[i] = tones2[i].replace(scale[r] +\"##\", scale[r+1])\r\n",
        "    return tones2"
      ],
      "execution_count": null,
      "outputs": []
    },
    {
      "cell_type": "markdown",
      "metadata": {
        "id": "ETOg-qn6wIog"
      },
      "source": [
        "学習用のファイルを1個ずつ先ほどの関数に渡して、入力データ用の配列に追加していく。"
      ]
    },
    {
      "cell_type": "code",
      "metadata": {
        "id": "frn-N-_I--le"
      },
      "source": [
        "input_notes_data = []\r\n",
        "for file in files:\r\n",
        "    chopin = converter.parse(file)\r\n",
        "    if str(file) == '/content/drive/MyDrive/Colab Notebooks/train_data/mazurka24-1.krn':\r\n",
        "        chopin[5].pop(63)\r\n",
        "    a = tone_load(Ts_load(chopin))\r\n",
        "    input_notes_data.extend(make_input_data(a))"
      ],
      "execution_count": null,
      "outputs": []
    },
    {
      "cell_type": "code",
      "metadata": {
        "colab": {
          "base_uri": "https://localhost:8080/"
        },
        "id": "STXQghya0QPJ",
        "outputId": "6751fcdd-7c7c-431d-c830-3a11e8fd09d9"
      },
      "source": [
        "print(input_notes_data[:3])"
      ],
      "execution_count": null,
      "outputs": [
        {
          "output_type": "stream",
          "text": [
            "[['G#2,D#3', 'G#2,D#3', 'G#2,D#3', 'G#2,D#3'], ['G#2,D#3', 'G#2,D#3', 'G#2,D#3', 'G#2,D#3'], ['G#2,D#3', 'G#2,D#3', 'G#2,D#3', 'G#2,D#3']]\n"
          ],
          "name": "stdout"
        }
      ]
    },
    {
      "cell_type": "code",
      "metadata": {
        "id": "I9F0EHUQ_AQL"
      },
      "source": [
        "for i in range(len(input_notes_data)):\r\n",
        "    input_notes_data[i] = onkai(input_notes_data[i])"
      ],
      "execution_count": null,
      "outputs": []
    },
    {
      "cell_type": "markdown",
      "metadata": {
        "id": "IKQH0zBGxI9H"
      },
      "source": [
        "私の場合はデータ数を減らすためシャープを消す。動作させなくても問題ない。"
      ]
    },
    {
      "cell_type": "code",
      "metadata": {
        "id": "RAKc1wDo_hez"
      },
      "source": [
        "for r in input_notes_data:\r\n",
        "    for i in range(len(r)):    \r\n",
        "        r[i] = r[i].replace('#', '')"
      ],
      "execution_count": null,
      "outputs": []
    },
    {
      "cell_type": "markdown",
      "metadata": {
        "id": "axSbvIRmxNIn"
      },
      "source": [
        "先ほど作成した入力データ用の配列の重複を消した辞書用配列を作成する。"
      ]
    },
    {
      "cell_type": "code",
      "metadata": {
        "id": "EnZqXl3G_i7l"
      },
      "source": [
        "notes_dict=[]\r\n",
        "for i in input_notes_data:\r\n",
        "    for r in i:\r\n",
        "        if not r in notes_dict:\r\n",
        "            notes_dict.append(r[:])"
      ],
      "execution_count": null,
      "outputs": []
    },
    {
      "cell_type": "code",
      "metadata": {
        "colab": {
          "base_uri": "https://localhost:8080/"
        },
        "id": "AyyLHJUu_mgd",
        "outputId": "76077004-5dc3-4ab4-83cd-960c7eb8686a"
      },
      "source": [
        "len(notes_dict)"
      ],
      "execution_count": null,
      "outputs": [
        {
          "output_type": "execute_result",
          "data": {
            "text/plain": [
              "507"
            ]
          },
          "metadata": {
            "tags": []
          },
          "execution_count": 108
        }
      ]
    },
    {
      "cell_type": "markdown",
      "metadata": {
        "id": "1lx6lKP7x4F4"
      },
      "source": [
        "ソート用の関数を作る。tone_level関数はドレミファ順にする、extract_num関数は音の高さ順、chord_or_note関数はコードオブジェクトとノートオブジェクトを分けて並べる。"
      ]
    },
    {
      "cell_type": "code",
      "metadata": {
        "id": "Z-PEcIyo_n8A"
      },
      "source": [
        "def tone_level(s):\r\n",
        "    scale={\"R\":0,\"C\":1,\"D\":2,\"E\":3,\"F\":4,\"G\":5,\"A\":6,\"B\":7}\r\n",
        "    return scale[s[0]]"
      ],
      "execution_count": null,
      "outputs": []
    },
    {
      "cell_type": "code",
      "metadata": {
        "id": "lPMIc34H_sDI"
      },
      "source": [
        "def extract_num(s, p, ret=0):\r\n",
        "    l_n = re.findall(p,s)\r\n",
        "    if len(l_n) != 0:\r\n",
        "        return sum([int(n) for n in l_n])\r\n",
        "    else:\r\n",
        "        return ret"
      ],
      "execution_count": null,
      "outputs": []
    },
    {
      "cell_type": "code",
      "metadata": {
        "id": "c7MxEPi4_tbx"
      },
      "source": [
        "def chord_or_note(s , p ,ret=0):\r\n",
        "    r = 100\r\n",
        "    l_n = re.findall(p,s)\r\n",
        "    return r - len(l_n)"
      ],
      "execution_count": null,
      "outputs": []
    },
    {
      "cell_type": "code",
      "metadata": {
        "id": "xXnz4z5y_xyD"
      },
      "source": [
        "a = sorted(notes_dict, key=lambda s: tone_level(s))"
      ],
      "execution_count": null,
      "outputs": []
    },
    {
      "cell_type": "code",
      "metadata": {
        "id": "d_bcpkw0_z8G"
      },
      "source": [
        "r = re.compile(r'(,+)')\r\n",
        "b = sorted(a, key=lambda s: chord_or_note(s, r))"
      ],
      "execution_count": null,
      "outputs": []
    },
    {
      "cell_type": "markdown",
      "metadata": {
        "id": "tKsM8kMF1KMz"
      },
      "source": [
        "音符に数字を対応させた辞書を作成する。コードオブジェクトの低音～高音、ノートオブジェクトの低音～高音という順で並べる"
      ]
    },
    {
      "cell_type": "code",
      "metadata": {
        "id": "nZjo7vCb_17t"
      },
      "source": [
        "a_0 = []\r\n",
        "a_1 = []\r\n",
        "a_2 = []\r\n",
        "a_3 = []\r\n",
        "a_4 = []\r\n",
        "a_5 = []\r\n",
        "for i in b:\r\n",
        "    if len(i) == 17:\r\n",
        "        a_0.append(i[:])\r\n",
        "    if len(i) == 14:\r\n",
        "        a_1.append(i[:])\r\n",
        "    if len(i) == 11:\r\n",
        "        a_2.append(i[:])\r\n",
        "    if len(i) == 8:\r\n",
        "        a_3.append(i[:])\r\n",
        "    if len(i) == 5:\r\n",
        "        a_4.append(i[:])\r\n",
        "    if len(i) == 2:\r\n",
        "        a_5.append(i[:])"
      ],
      "execution_count": null,
      "outputs": []
    },
    {
      "cell_type": "code",
      "metadata": {
        "id": "lL8IStOP_3lR"
      },
      "source": [
        "notes_dict=[]"
      ],
      "execution_count": null,
      "outputs": []
    },
    {
      "cell_type": "code",
      "metadata": {
        "id": "3EirK6w0_5V9"
      },
      "source": [
        "p = re.compile(r'(\\d+)')\r\n",
        "notes_dict.extend(sorted(a_0, key=lambda s: extract_num(s, p)))\r\n",
        "notes_dict.extend(sorted(a_1, key=lambda s: extract_num(s, p)))\r\n",
        "notes_dict.extend(sorted(a_2, key=lambda s: extract_num(s, p)))\r\n",
        "notes_dict.extend(sorted(a_3, key=lambda s: extract_num(s, p)))\r\n",
        "notes_dict.extend(sorted(a_4, key=lambda s: extract_num(s, p)))\r\n",
        "notes_dict.extend(sorted(a_5, key=lambda s: extract_num(s, p)))"
      ],
      "execution_count": null,
      "outputs": []
    },
    {
      "cell_type": "code",
      "metadata": {
        "id": "k36wwNMHACmp"
      },
      "source": [
        "notes_dict.insert(0,\"Rest\")"
      ],
      "execution_count": null,
      "outputs": []
    },
    {
      "cell_type": "code",
      "metadata": {
        "id": "1Y1sAPZeAHJI"
      },
      "source": [
        "notes_dict.insert(0,\"None\")"
      ],
      "execution_count": null,
      "outputs": []
    },
    {
      "cell_type": "code",
      "metadata": {
        "id": "wEFHXBadAIwM"
      },
      "source": [
        "notes_dict = dict((data, number) for number, data in enumerate(notes_dict,0))"
      ],
      "execution_count": null,
      "outputs": []
    },
    {
      "cell_type": "markdown",
      "metadata": {
        "id": "WBsM2-ur1uZ0"
      },
      "source": [
        "辞書を保存する"
      ]
    },
    {
      "cell_type": "code",
      "metadata": {
        "id": "QUqswgxJzezl"
      },
      "source": [
        "import pickle\r\n",
        "\r\n",
        "def pickle_dump(obj, path):\r\n",
        "    with open(path, mode='wb') as f:\r\n",
        "        pickle.dump(obj,f)\r\n",
        "\r\n",
        "def pickle_load(path):\r\n",
        "    with open(path, mode='rb') as f:\r\n",
        "        data = pickle.load(f)\r\n",
        "        return data"
      ],
      "execution_count": null,
      "outputs": []
    },
    {
      "cell_type": "code",
      "metadata": {
        "id": "cn4H5MNrzfk9"
      },
      "source": [
        "pickle_dump(notes_dict, './mydict1.pickle')"
      ],
      "execution_count": null,
      "outputs": []
    },
    {
      "cell_type": "markdown",
      "metadata": {
        "id": "izoOGlqs1yTI"
      },
      "source": [
        "4×3×n(小節の数)で構成されている入力データ用の配列を12×nの形に整形する。"
      ]
    },
    {
      "cell_type": "code",
      "metadata": {
        "id": "szimaMF6AK9d"
      },
      "source": [
        "r = []\r\n",
        "i_nd = []\r\n",
        "co = 0\r\n",
        "for n in input_notes_data:\r\n",
        "    co+=1\r\n",
        "    for i in n:\r\n",
        "        r.append(i[:])\r\n",
        "    if co % 3 == 0:\r\n",
        "        i_nd.append(r[:])\r\n",
        "        r=[]"
      ],
      "execution_count": null,
      "outputs": []
    },
    {
      "cell_type": "code",
      "metadata": {
        "colab": {
          "base_uri": "https://localhost:8080/"
        },
        "id": "EAJ0HqsN2I5o",
        "outputId": "f5a369f7-1187-4ea4-a696-e70b109fe409"
      },
      "source": [
        "print(i_nd[:1])"
      ],
      "execution_count": null,
      "outputs": [
        {
          "output_type": "stream",
          "text": [
            "[['G2,D3', 'G2,D3', 'G2,D3', 'G2,D3', 'G2,D3', 'G2,D3', 'G2,D3', 'G2,D3', 'G2,D3', 'G2,D3', 'G2,D3', 'G2,D3']]\n"
          ],
          "name": "stdout"
        }
      ]
    },
    {
      "cell_type": "markdown",
      "metadata": {
        "id": "yxodVV2s2qr6"
      },
      "source": [
        "12個のデータを1個ずつNoneに置き換えて、12×12×nの形に整形する。Noneにしたところのデータは答えのデータ用配列に追加していく。"
      ]
    },
    {
      "cell_type": "code",
      "metadata": {
        "id": "SJgT2mLbAgkt"
      },
      "source": [
        "i_nd2 = []\r\n",
        "o_nd = []\r\n",
        "co = 0\r\n",
        "for i in range(len(i_nd)):\r\n",
        "    for r in range(len(i_nd[i])):\r\n",
        "        o_nd.append(i_nd[i][r][:])\r\n",
        "        i_nd2.append(i_nd[i][:])\r\n",
        "        i_nd2[co][r] = \"None\"\r\n",
        "        co += 1"
      ],
      "execution_count": null,
      "outputs": []
    },
    {
      "cell_type": "markdown",
      "metadata": {
        "id": "4l_BQF_P3eya"
      },
      "source": [
        "辞書を使い入力データ用の配列と答えデータ用の配列を数値化する。"
      ]
    },
    {
      "cell_type": "code",
      "metadata": {
        "id": "A2IS09XOAh80"
      },
      "source": [
        "for r in i_nd2:\r\n",
        "    for i in range(len(r)):    \r\n",
        "        r[i] = notes_dict[r[i]]\r\n",
        "for r in range(len(o_nd)):\r\n",
        "  o_nd[r] = notes_dict[o_nd[r]]"
      ],
      "execution_count": null,
      "outputs": []
    },
    {
      "cell_type": "code",
      "metadata": {
        "id": "nqWEXPK9Ax9i"
      },
      "source": [
        "from keras.utils import np_utils\r\n",
        "from tensorflow.keras.models import Sequential\r\n",
        "from tensorflow.keras.layers import Dense, Dropout, Activation, Lambda\r\n",
        "from tensorflow.keras.callbacks import ModelCheckpoint\r\n",
        "from tensorflow.keras.optimizers import Adam"
      ],
      "execution_count": null,
      "outputs": []
    },
    {
      "cell_type": "markdown",
      "metadata": {
        "id": "SBeWmF1B3vSD"
      },
      "source": [
        "モデルを作成する。ニューラルネットワークを使い、2000×2層、1000×4層、500×6層の計12層。"
      ]
    },
    {
      "cell_type": "code",
      "metadata": {
        "id": "bkr-WNyXLWtR"
      },
      "source": [
        "max_length =  max(notes_dict.values())"
      ],
      "execution_count": null,
      "outputs": []
    },
    {
      "cell_type": "code",
      "metadata": {
        "id": "XmkbI_sFA0-a"
      },
      "source": [
        "model = Sequential()\r\n",
        "model.add(Dense(2000, input_dim = 12, activation='relu'))\r\n",
        "model.add(Dropout(0.2))\r\n",
        "model.add(Dense(2000, input_dim = 12, activation='relu'))\r\n",
        "model.add(Dropout(0.2))\r\n",
        "model.add(Dense(1000, activation='relu'))\r\n",
        "model.add(Dropout(0.2))\r\n",
        "model.add(Dense(1000, activation='relu'))\r\n",
        "model.add(Dropout(0.2))\r\n",
        "model.add(Dense(1000, activation='relu'))\r\n",
        "model.add(Dropout(0.2))\r\n",
        "model.add(Dense(1000, activation='relu'))\r\n",
        "model.add(Dropout(0.2))\r\n",
        "model.add(Dense(500, activation='relu'))\r\n",
        "model.add(Dropout(0.2))\r\n",
        "model.add(Dense(500, activation='relu'))\r\n",
        "model.add(Dropout(0.2))\r\n",
        "model.add(Dense(500, activation='relu'))\r\n",
        "model.add(Dropout(0.2))\r\n",
        "model.add(Dense(500, activation='relu'))\r\n",
        "model.add(Dropout(0.2))\r\n",
        "model.add(Dense(500, activation='relu'))\r\n",
        "model.add(Dropout(0.2))\r\n",
        "model.add(Dense(500, activation='relu'))\r\n",
        "model.add(Dropout(0.2))\r\n",
        "model.add(Dense(max_length + 1, activation='softmax'))"
      ],
      "execution_count": null,
      "outputs": []
    },
    {
      "cell_type": "code",
      "metadata": {
        "id": "mTpWWH7KIUw6"
      },
      "source": [
        "model.compile(loss=\"categorical_crossentropy\", optimizer=Adam(lr=0.001), metrics=['accuracy'],)"
      ],
      "execution_count": null,
      "outputs": []
    },
    {
      "cell_type": "code",
      "metadata": {
        "colab": {
          "base_uri": "https://localhost:8080/"
        },
        "id": "txr7uMdgIt3h",
        "outputId": "6e0efff5-2d09-47a7-f8a7-b6421fc5e061"
      },
      "source": [
        "model.summary()"
      ],
      "execution_count": null,
      "outputs": [
        {
          "output_type": "stream",
          "text": [
            "Model: \"sequential_1\"\n",
            "_________________________________________________________________\n",
            "Layer (type)                 Output Shape              Param #   \n",
            "=================================================================\n",
            "dense_13 (Dense)             (None, 2000)              26000     \n",
            "_________________________________________________________________\n",
            "dropout_12 (Dropout)         (None, 2000)              0         \n",
            "_________________________________________________________________\n",
            "dense_14 (Dense)             (None, 2000)              4002000   \n",
            "_________________________________________________________________\n",
            "dropout_13 (Dropout)         (None, 2000)              0         \n",
            "_________________________________________________________________\n",
            "dense_15 (Dense)             (None, 1000)              2001000   \n",
            "_________________________________________________________________\n",
            "dropout_14 (Dropout)         (None, 1000)              0         \n",
            "_________________________________________________________________\n",
            "dense_16 (Dense)             (None, 1000)              1001000   \n",
            "_________________________________________________________________\n",
            "dropout_15 (Dropout)         (None, 1000)              0         \n",
            "_________________________________________________________________\n",
            "dense_17 (Dense)             (None, 1000)              1001000   \n",
            "_________________________________________________________________\n",
            "dropout_16 (Dropout)         (None, 1000)              0         \n",
            "_________________________________________________________________\n",
            "dense_18 (Dense)             (None, 1000)              1001000   \n",
            "_________________________________________________________________\n",
            "dropout_17 (Dropout)         (None, 1000)              0         \n",
            "_________________________________________________________________\n",
            "dense_19 (Dense)             (None, 500)               500500    \n",
            "_________________________________________________________________\n",
            "dropout_18 (Dropout)         (None, 500)               0         \n",
            "_________________________________________________________________\n",
            "dense_20 (Dense)             (None, 500)               250500    \n",
            "_________________________________________________________________\n",
            "dropout_19 (Dropout)         (None, 500)               0         \n",
            "_________________________________________________________________\n",
            "dense_21 (Dense)             (None, 500)               250500    \n",
            "_________________________________________________________________\n",
            "dropout_20 (Dropout)         (None, 500)               0         \n",
            "_________________________________________________________________\n",
            "dense_22 (Dense)             (None, 500)               250500    \n",
            "_________________________________________________________________\n",
            "dropout_21 (Dropout)         (None, 500)               0         \n",
            "_________________________________________________________________\n",
            "dense_23 (Dense)             (None, 500)               250500    \n",
            "_________________________________________________________________\n",
            "dropout_22 (Dropout)         (None, 500)               0         \n",
            "_________________________________________________________________\n",
            "dense_24 (Dense)             (None, 500)               250500    \n",
            "_________________________________________________________________\n",
            "dropout_23 (Dropout)         (None, 500)               0         \n",
            "_________________________________________________________________\n",
            "dense_25 (Dense)             (None, 508)               254508    \n",
            "=================================================================\n",
            "Total params: 11,039,508\n",
            "Trainable params: 11,039,508\n",
            "Non-trainable params: 0\n",
            "_________________________________________________________________\n"
          ],
          "name": "stdout"
        }
      ]
    },
    {
      "cell_type": "markdown",
      "metadata": {
        "id": "yim4fLHl4d1N"
      },
      "source": [
        "tensorflowで扱えるようにnumpy配列化する。"
      ]
    },
    {
      "cell_type": "code",
      "metadata": {
        "id": "xvOcnvb_Ivst"
      },
      "source": [
        "notes_input_data = np.array(i_nd2)\r\n",
        "notes_output_data = np.array(o_nd)"
      ],
      "execution_count": null,
      "outputs": []
    },
    {
      "cell_type": "code",
      "metadata": {
        "id": "5Qt2dxkLKnJh"
      },
      "source": [
        "notes_output_data=np_utils.to_categorical(notes_output_data)"
      ],
      "execution_count": null,
      "outputs": []
    },
    {
      "cell_type": "code",
      "metadata": {
        "colab": {
          "base_uri": "https://localhost:8080/"
        },
        "id": "-doQ6-iYJXwa",
        "outputId": "f02cb957-1f03-491f-f1d3-a1f626a28758"
      },
      "source": [
        "print(notes_input_data.shape , notes_output_data.shape)"
      ],
      "execution_count": null,
      "outputs": [
        {
          "output_type": "stream",
          "text": [
            "(52392, 12) (52392, 508)\n"
          ],
          "name": "stdout"
        }
      ]
    },
    {
      "cell_type": "markdown",
      "metadata": {
        "id": "bjqUSsZ54rWO"
      },
      "source": [
        "正規化"
      ]
    },
    {
      "cell_type": "code",
      "metadata": {
        "id": "P-szKDYoD5_v"
      },
      "source": [
        "notes_input_data = notes_input_data / max_length"
      ],
      "execution_count": null,
      "outputs": []
    },
    {
      "cell_type": "markdown",
      "metadata": {
        "id": "CgLBhZhC4tvY"
      },
      "source": [
        "学習"
      ]
    },
    {
      "cell_type": "code",
      "metadata": {
        "colab": {
          "base_uri": "https://localhost:8080/"
        },
        "id": "mizGc72rJZVZ",
        "outputId": "905de2a4-e506-43ba-b94e-a17e89e0c5c8"
      },
      "source": [
        "model.fit(notes_input_data, notes_output_data, epochs=500, batch_size=1024)"
      ],
      "execution_count": null,
      "outputs": [
        {
          "output_type": "stream",
          "text": [
            "Epoch 1/500\n",
            "52/52 [==============================] - 2s 26ms/step - loss: 5.9222 - accuracy: 0.0490\n",
            "Epoch 2/500\n",
            "52/52 [==============================] - 1s 24ms/step - loss: 4.7273 - accuracy: 0.0921\n",
            "Epoch 3/500\n",
            "52/52 [==============================] - 1s 24ms/step - loss: 4.5564 - accuracy: 0.0943\n",
            "Epoch 4/500\n",
            "52/52 [==============================] - 1s 24ms/step - loss: 4.2021 - accuracy: 0.1442\n",
            "Epoch 5/500\n",
            "52/52 [==============================] - 1s 24ms/step - loss: 3.7046 - accuracy: 0.1639\n",
            "Epoch 6/500\n",
            "52/52 [==============================] - 1s 24ms/step - loss: 3.4254 - accuracy: 0.1857\n",
            "Epoch 7/500\n",
            "52/52 [==============================] - 1s 24ms/step - loss: 3.3189 - accuracy: 0.1917\n",
            "Epoch 8/500\n",
            "52/52 [==============================] - 1s 24ms/step - loss: 3.2641 - accuracy: 0.1938\n",
            "Epoch 9/500\n",
            "52/52 [==============================] - 1s 24ms/step - loss: 3.1638 - accuracy: 0.2049\n",
            "Epoch 10/500\n",
            "52/52 [==============================] - 1s 24ms/step - loss: 3.0601 - accuracy: 0.2167\n",
            "Epoch 11/500\n",
            "52/52 [==============================] - 1s 24ms/step - loss: 3.0526 - accuracy: 0.2199\n",
            "Epoch 12/500\n",
            "52/52 [==============================] - 1s 24ms/step - loss: 2.9815 - accuracy: 0.2230\n",
            "Epoch 13/500\n",
            "52/52 [==============================] - 1s 24ms/step - loss: 2.9416 - accuracy: 0.2277\n",
            "Epoch 14/500\n",
            "52/52 [==============================] - 1s 24ms/step - loss: 2.9323 - accuracy: 0.2280\n",
            "Epoch 15/500\n",
            "52/52 [==============================] - 1s 24ms/step - loss: 2.9161 - accuracy: 0.2269\n",
            "Epoch 16/500\n",
            "52/52 [==============================] - 1s 25ms/step - loss: 2.8677 - accuracy: 0.2373\n",
            "Epoch 17/500\n",
            "52/52 [==============================] - 1s 25ms/step - loss: 2.8705 - accuracy: 0.2348\n",
            "Epoch 18/500\n",
            "52/52 [==============================] - 1s 25ms/step - loss: 2.8684 - accuracy: 0.2346\n",
            "Epoch 19/500\n",
            "52/52 [==============================] - 1s 25ms/step - loss: 2.7825 - accuracy: 0.2452\n",
            "Epoch 20/500\n",
            "52/52 [==============================] - 1s 25ms/step - loss: 2.7980 - accuracy: 0.2410\n",
            "Epoch 21/500\n",
            "52/52 [==============================] - 1s 25ms/step - loss: 2.7290 - accuracy: 0.2503\n",
            "Epoch 22/500\n",
            "52/52 [==============================] - 1s 25ms/step - loss: 2.7505 - accuracy: 0.2464\n",
            "Epoch 23/500\n",
            "52/52 [==============================] - 1s 25ms/step - loss: 2.7801 - accuracy: 0.2463\n",
            "Epoch 24/500\n",
            "52/52 [==============================] - 1s 25ms/step - loss: 2.8015 - accuracy: 0.2439\n",
            "Epoch 25/500\n",
            "52/52 [==============================] - 1s 25ms/step - loss: 2.7864 - accuracy: 0.2429\n",
            "Epoch 26/500\n",
            "52/52 [==============================] - 1s 25ms/step - loss: 2.6693 - accuracy: 0.2577\n",
            "Epoch 27/500\n",
            "52/52 [==============================] - 1s 25ms/step - loss: 2.6555 - accuracy: 0.2572\n",
            "Epoch 28/500\n",
            "52/52 [==============================] - 1s 25ms/step - loss: 2.6782 - accuracy: 0.2521\n",
            "Epoch 29/500\n",
            "52/52 [==============================] - 1s 25ms/step - loss: 2.6130 - accuracy: 0.2575\n",
            "Epoch 30/500\n",
            "52/52 [==============================] - 1s 25ms/step - loss: 2.6071 - accuracy: 0.2649\n",
            "Epoch 31/500\n",
            "52/52 [==============================] - 1s 25ms/step - loss: 2.6372 - accuracy: 0.2614\n",
            "Epoch 32/500\n",
            "52/52 [==============================] - 1s 25ms/step - loss: 2.5779 - accuracy: 0.2696\n",
            "Epoch 33/500\n",
            "52/52 [==============================] - 1s 25ms/step - loss: 2.5802 - accuracy: 0.2684\n",
            "Epoch 34/500\n",
            "52/52 [==============================] - 1s 25ms/step - loss: 2.6065 - accuracy: 0.2642\n",
            "Epoch 35/500\n",
            "52/52 [==============================] - 1s 25ms/step - loss: 2.5679 - accuracy: 0.2689\n",
            "Epoch 36/500\n",
            "52/52 [==============================] - 1s 25ms/step - loss: 2.5721 - accuracy: 0.2674\n",
            "Epoch 37/500\n",
            "52/52 [==============================] - 1s 25ms/step - loss: 2.6303 - accuracy: 0.2594\n",
            "Epoch 38/500\n",
            "52/52 [==============================] - 1s 25ms/step - loss: 2.5668 - accuracy: 0.2701\n",
            "Epoch 39/500\n",
            "52/52 [==============================] - 1s 25ms/step - loss: 2.5498 - accuracy: 0.2721\n",
            "Epoch 40/500\n",
            "52/52 [==============================] - 1s 25ms/step - loss: 2.5314 - accuracy: 0.2706\n",
            "Epoch 41/500\n",
            "52/52 [==============================] - 1s 24ms/step - loss: 2.5252 - accuracy: 0.2752\n",
            "Epoch 42/500\n",
            "52/52 [==============================] - 1s 25ms/step - loss: 2.5768 - accuracy: 0.2685\n",
            "Epoch 43/500\n",
            "52/52 [==============================] - 1s 24ms/step - loss: 2.4833 - accuracy: 0.2807\n",
            "Epoch 44/500\n",
            "52/52 [==============================] - 1s 24ms/step - loss: 2.5404 - accuracy: 0.2701\n",
            "Epoch 45/500\n",
            "52/52 [==============================] - 1s 25ms/step - loss: 2.5125 - accuracy: 0.2762\n",
            "Epoch 46/500\n",
            "52/52 [==============================] - 1s 24ms/step - loss: 2.5345 - accuracy: 0.2734\n",
            "Epoch 47/500\n",
            "52/52 [==============================] - 1s 24ms/step - loss: 2.5104 - accuracy: 0.2734\n",
            "Epoch 48/500\n",
            "52/52 [==============================] - 1s 24ms/step - loss: 2.4522 - accuracy: 0.2852\n",
            "Epoch 49/500\n",
            "52/52 [==============================] - 1s 24ms/step - loss: 2.4262 - accuracy: 0.2905\n",
            "Epoch 50/500\n",
            "52/52 [==============================] - 1s 24ms/step - loss: 2.4674 - accuracy: 0.2852\n",
            "Epoch 51/500\n",
            "52/52 [==============================] - 1s 24ms/step - loss: 2.4365 - accuracy: 0.2879\n",
            "Epoch 52/500\n",
            "52/52 [==============================] - 1s 24ms/step - loss: 2.4284 - accuracy: 0.2860\n",
            "Epoch 53/500\n",
            "52/52 [==============================] - 1s 24ms/step - loss: 2.4536 - accuracy: 0.2833\n",
            "Epoch 54/500\n",
            "52/52 [==============================] - 1s 25ms/step - loss: 2.4044 - accuracy: 0.2901\n",
            "Epoch 55/500\n",
            "52/52 [==============================] - 1s 24ms/step - loss: 2.4437 - accuracy: 0.2845\n",
            "Epoch 56/500\n",
            "52/52 [==============================] - 1s 24ms/step - loss: 2.4175 - accuracy: 0.2877\n",
            "Epoch 57/500\n",
            "52/52 [==============================] - 1s 24ms/step - loss: 2.4001 - accuracy: 0.2902\n",
            "Epoch 58/500\n",
            "52/52 [==============================] - 1s 24ms/step - loss: 2.3609 - accuracy: 0.3000\n",
            "Epoch 59/500\n",
            "52/52 [==============================] - 1s 24ms/step - loss: 2.5003 - accuracy: 0.2773\n",
            "Epoch 60/500\n",
            "52/52 [==============================] - 1s 24ms/step - loss: 2.3886 - accuracy: 0.2945\n",
            "Epoch 61/500\n",
            "52/52 [==============================] - 1s 24ms/step - loss: 2.3757 - accuracy: 0.2977\n",
            "Epoch 62/500\n",
            "52/52 [==============================] - 1s 24ms/step - loss: 2.3917 - accuracy: 0.2916\n",
            "Epoch 63/500\n",
            "52/52 [==============================] - 1s 24ms/step - loss: 2.3488 - accuracy: 0.2983\n",
            "Epoch 64/500\n",
            "52/52 [==============================] - 1s 24ms/step - loss: 2.4379 - accuracy: 0.2890\n",
            "Epoch 65/500\n",
            "52/52 [==============================] - 1s 24ms/step - loss: 2.3423 - accuracy: 0.3037\n",
            "Epoch 66/500\n",
            "52/52 [==============================] - 1s 24ms/step - loss: 2.3648 - accuracy: 0.2998\n",
            "Epoch 67/500\n",
            "52/52 [==============================] - 1s 24ms/step - loss: 2.3679 - accuracy: 0.2982\n",
            "Epoch 68/500\n",
            "52/52 [==============================] - 1s 24ms/step - loss: 2.3375 - accuracy: 0.3028\n",
            "Epoch 69/500\n",
            "52/52 [==============================] - 1s 24ms/step - loss: 2.3731 - accuracy: 0.2943\n",
            "Epoch 70/500\n",
            "52/52 [==============================] - 1s 24ms/step - loss: 2.3477 - accuracy: 0.2984\n",
            "Epoch 71/500\n",
            "52/52 [==============================] - 1s 24ms/step - loss: 2.4394 - accuracy: 0.2861\n",
            "Epoch 72/500\n",
            "52/52 [==============================] - 1s 24ms/step - loss: 2.3406 - accuracy: 0.3003\n",
            "Epoch 73/500\n",
            "52/52 [==============================] - 1s 24ms/step - loss: 2.2944 - accuracy: 0.3103\n",
            "Epoch 74/500\n",
            "52/52 [==============================] - 1s 24ms/step - loss: 2.3386 - accuracy: 0.3034\n",
            "Epoch 75/500\n",
            "52/52 [==============================] - 1s 24ms/step - loss: 2.3306 - accuracy: 0.3039\n",
            "Epoch 76/500\n",
            "52/52 [==============================] - 1s 24ms/step - loss: 2.2920 - accuracy: 0.3092\n",
            "Epoch 77/500\n",
            "52/52 [==============================] - 1s 24ms/step - loss: 2.3502 - accuracy: 0.3014\n",
            "Epoch 78/500\n",
            "52/52 [==============================] - 1s 24ms/step - loss: 2.2885 - accuracy: 0.3109\n",
            "Epoch 79/500\n",
            "52/52 [==============================] - 1s 24ms/step - loss: 2.3674 - accuracy: 0.3002\n",
            "Epoch 80/500\n",
            "52/52 [==============================] - 1s 24ms/step - loss: 2.3215 - accuracy: 0.3064\n",
            "Epoch 81/500\n",
            "52/52 [==============================] - 1s 24ms/step - loss: 2.3211 - accuracy: 0.3083\n",
            "Epoch 82/500\n",
            "52/52 [==============================] - 1s 25ms/step - loss: 2.2687 - accuracy: 0.3165\n",
            "Epoch 83/500\n",
            "52/52 [==============================] - 1s 25ms/step - loss: 2.3176 - accuracy: 0.3053\n",
            "Epoch 84/500\n",
            "52/52 [==============================] - 1s 24ms/step - loss: 2.2623 - accuracy: 0.3163\n",
            "Epoch 85/500\n",
            "52/52 [==============================] - 1s 24ms/step - loss: 2.2498 - accuracy: 0.3175\n",
            "Epoch 86/500\n",
            "52/52 [==============================] - 1s 24ms/step - loss: 2.2767 - accuracy: 0.3118\n",
            "Epoch 87/500\n",
            "52/52 [==============================] - 1s 25ms/step - loss: 2.2665 - accuracy: 0.3172\n",
            "Epoch 88/500\n",
            "52/52 [==============================] - 1s 25ms/step - loss: 2.2934 - accuracy: 0.3104\n",
            "Epoch 89/500\n",
            "52/52 [==============================] - 1s 24ms/step - loss: 2.2445 - accuracy: 0.3161\n",
            "Epoch 90/500\n",
            "52/52 [==============================] - 1s 24ms/step - loss: 2.2578 - accuracy: 0.3139\n",
            "Epoch 91/500\n",
            "52/52 [==============================] - 1s 24ms/step - loss: 2.2287 - accuracy: 0.3205\n",
            "Epoch 92/500\n",
            "52/52 [==============================] - 1s 24ms/step - loss: 2.2636 - accuracy: 0.3147\n",
            "Epoch 93/500\n",
            "52/52 [==============================] - 1s 25ms/step - loss: 2.2495 - accuracy: 0.3158\n",
            "Epoch 94/500\n",
            "52/52 [==============================] - 1s 24ms/step - loss: 2.2519 - accuracy: 0.3167\n",
            "Epoch 95/500\n",
            "52/52 [==============================] - 1s 24ms/step - loss: 2.2307 - accuracy: 0.3211\n",
            "Epoch 96/500\n",
            "52/52 [==============================] - 1s 24ms/step - loss: 2.2673 - accuracy: 0.3174\n",
            "Epoch 97/500\n",
            "52/52 [==============================] - 1s 25ms/step - loss: 2.2082 - accuracy: 0.3258\n",
            "Epoch 98/500\n",
            "52/52 [==============================] - 1s 24ms/step - loss: 2.2488 - accuracy: 0.3170\n",
            "Epoch 99/500\n",
            "52/52 [==============================] - 1s 24ms/step - loss: 2.2165 - accuracy: 0.3227\n",
            "Epoch 100/500\n",
            "52/52 [==============================] - 1s 24ms/step - loss: 2.2304 - accuracy: 0.3193\n",
            "Epoch 101/500\n",
            "52/52 [==============================] - 1s 24ms/step - loss: 2.2129 - accuracy: 0.3216\n",
            "Epoch 102/500\n",
            "52/52 [==============================] - 1s 24ms/step - loss: 2.2233 - accuracy: 0.3223\n",
            "Epoch 103/500\n",
            "52/52 [==============================] - 1s 24ms/step - loss: 2.1991 - accuracy: 0.3247\n",
            "Epoch 104/500\n",
            "52/52 [==============================] - 1s 24ms/step - loss: 2.2641 - accuracy: 0.3155\n",
            "Epoch 105/500\n",
            "52/52 [==============================] - 1s 25ms/step - loss: 2.2065 - accuracy: 0.3261\n",
            "Epoch 106/500\n",
            "52/52 [==============================] - 1s 24ms/step - loss: 2.1972 - accuracy: 0.3268\n",
            "Epoch 107/500\n",
            "52/52 [==============================] - 1s 25ms/step - loss: 2.2722 - accuracy: 0.3139\n",
            "Epoch 108/500\n",
            "52/52 [==============================] - 1s 24ms/step - loss: 2.2581 - accuracy: 0.3200\n",
            "Epoch 109/500\n",
            "52/52 [==============================] - 1s 24ms/step - loss: 2.2096 - accuracy: 0.3280\n",
            "Epoch 110/500\n",
            "52/52 [==============================] - 1s 24ms/step - loss: 2.1802 - accuracy: 0.3306\n",
            "Epoch 111/500\n",
            "52/52 [==============================] - 1s 24ms/step - loss: 2.1665 - accuracy: 0.3332\n",
            "Epoch 112/500\n",
            "52/52 [==============================] - 1s 24ms/step - loss: 2.1745 - accuracy: 0.3336\n",
            "Epoch 113/500\n",
            "52/52 [==============================] - 1s 24ms/step - loss: 2.2573 - accuracy: 0.3196\n",
            "Epoch 114/500\n",
            "52/52 [==============================] - 1s 24ms/step - loss: 2.1831 - accuracy: 0.3302\n",
            "Epoch 115/500\n",
            "52/52 [==============================] - 1s 24ms/step - loss: 2.1803 - accuracy: 0.3279\n",
            "Epoch 116/500\n",
            "52/52 [==============================] - 1s 24ms/step - loss: 2.1734 - accuracy: 0.3307\n",
            "Epoch 117/500\n",
            "52/52 [==============================] - 1s 24ms/step - loss: 2.2097 - accuracy: 0.3282\n",
            "Epoch 118/500\n",
            "52/52 [==============================] - 1s 24ms/step - loss: 2.1517 - accuracy: 0.3331\n",
            "Epoch 119/500\n",
            "52/52 [==============================] - 1s 24ms/step - loss: 2.1667 - accuracy: 0.3361\n",
            "Epoch 120/500\n",
            "52/52 [==============================] - 1s 24ms/step - loss: 2.2258 - accuracy: 0.3233\n",
            "Epoch 121/500\n",
            "52/52 [==============================] - 1s 25ms/step - loss: 2.1500 - accuracy: 0.3368\n",
            "Epoch 122/500\n",
            "52/52 [==============================] - 1s 24ms/step - loss: 2.1573 - accuracy: 0.3366\n",
            "Epoch 123/500\n",
            "52/52 [==============================] - 1s 25ms/step - loss: 2.1666 - accuracy: 0.3369\n",
            "Epoch 124/500\n",
            "52/52 [==============================] - 1s 24ms/step - loss: 2.1685 - accuracy: 0.3308\n",
            "Epoch 125/500\n",
            "52/52 [==============================] - 1s 24ms/step - loss: 2.1600 - accuracy: 0.3356\n",
            "Epoch 126/500\n",
            "52/52 [==============================] - 1s 24ms/step - loss: 2.1647 - accuracy: 0.3401\n",
            "Epoch 127/500\n",
            "52/52 [==============================] - 1s 24ms/step - loss: 2.1588 - accuracy: 0.3340\n",
            "Epoch 128/500\n",
            "52/52 [==============================] - 1s 25ms/step - loss: 2.1349 - accuracy: 0.3410\n",
            "Epoch 129/500\n",
            "52/52 [==============================] - 1s 24ms/step - loss: 2.2058 - accuracy: 0.3283\n",
            "Epoch 130/500\n",
            "52/52 [==============================] - 1s 24ms/step - loss: 2.1340 - accuracy: 0.3439\n",
            "Epoch 131/500\n",
            "52/52 [==============================] - 1s 25ms/step - loss: 2.1484 - accuracy: 0.3369\n",
            "Epoch 132/500\n",
            "52/52 [==============================] - 1s 24ms/step - loss: 2.1399 - accuracy: 0.3439\n",
            "Epoch 133/500\n",
            "52/52 [==============================] - 1s 24ms/step - loss: 2.1519 - accuracy: 0.3392\n",
            "Epoch 134/500\n",
            "52/52 [==============================] - 1s 24ms/step - loss: 2.1773 - accuracy: 0.3355\n",
            "Epoch 135/500\n",
            "52/52 [==============================] - 1s 24ms/step - loss: 2.1656 - accuracy: 0.3357\n",
            "Epoch 136/500\n",
            "52/52 [==============================] - 1s 24ms/step - loss: 2.1124 - accuracy: 0.3447\n",
            "Epoch 137/500\n",
            "52/52 [==============================] - 1s 24ms/step - loss: 2.1331 - accuracy: 0.3443\n",
            "Epoch 138/500\n",
            "52/52 [==============================] - 1s 24ms/step - loss: 2.1192 - accuracy: 0.3460\n",
            "Epoch 139/500\n",
            "52/52 [==============================] - 1s 24ms/step - loss: 2.1085 - accuracy: 0.3498\n",
            "Epoch 140/500\n",
            "52/52 [==============================] - 1s 24ms/step - loss: 2.1199 - accuracy: 0.3435\n",
            "Epoch 141/500\n",
            "52/52 [==============================] - 1s 24ms/step - loss: 2.0994 - accuracy: 0.3438\n",
            "Epoch 142/500\n",
            "52/52 [==============================] - 1s 24ms/step - loss: 2.1250 - accuracy: 0.3465\n",
            "Epoch 143/500\n",
            "52/52 [==============================] - 1s 24ms/step - loss: 2.0969 - accuracy: 0.3482\n",
            "Epoch 144/500\n",
            "52/52 [==============================] - 1s 24ms/step - loss: 2.1001 - accuracy: 0.3503\n",
            "Epoch 145/500\n",
            "52/52 [==============================] - 1s 25ms/step - loss: 2.0971 - accuracy: 0.3515\n",
            "Epoch 146/500\n",
            "52/52 [==============================] - 1s 24ms/step - loss: 2.0961 - accuracy: 0.3458\n",
            "Epoch 147/500\n",
            "52/52 [==============================] - 1s 24ms/step - loss: 2.1290 - accuracy: 0.3427\n",
            "Epoch 148/500\n",
            "52/52 [==============================] - 1s 24ms/step - loss: 2.1078 - accuracy: 0.3438\n",
            "Epoch 149/500\n",
            "52/52 [==============================] - 1s 24ms/step - loss: 2.0932 - accuracy: 0.3541\n",
            "Epoch 150/500\n",
            "52/52 [==============================] - 1s 24ms/step - loss: 2.1311 - accuracy: 0.3422\n",
            "Epoch 151/500\n",
            "52/52 [==============================] - 1s 24ms/step - loss: 2.0981 - accuracy: 0.3495\n",
            "Epoch 152/500\n",
            "52/52 [==============================] - 1s 24ms/step - loss: 2.0868 - accuracy: 0.3505\n",
            "Epoch 153/500\n",
            "52/52 [==============================] - 1s 24ms/step - loss: 2.0659 - accuracy: 0.3590\n",
            "Epoch 154/500\n",
            "52/52 [==============================] - 1s 24ms/step - loss: 2.0909 - accuracy: 0.3504\n",
            "Epoch 155/500\n",
            "52/52 [==============================] - 1s 24ms/step - loss: 2.1238 - accuracy: 0.3434\n",
            "Epoch 156/500\n",
            "52/52 [==============================] - 1s 24ms/step - loss: 2.0741 - accuracy: 0.3546\n",
            "Epoch 157/500\n",
            "52/52 [==============================] - 1s 24ms/step - loss: 2.0559 - accuracy: 0.3587\n",
            "Epoch 158/500\n",
            "52/52 [==============================] - 1s 24ms/step - loss: 2.0661 - accuracy: 0.3577\n",
            "Epoch 159/500\n",
            "52/52 [==============================] - 1s 24ms/step - loss: 2.0740 - accuracy: 0.3520\n",
            "Epoch 160/500\n",
            "52/52 [==============================] - 1s 24ms/step - loss: 2.0588 - accuracy: 0.3544\n",
            "Epoch 161/500\n",
            "52/52 [==============================] - 1s 25ms/step - loss: 2.0722 - accuracy: 0.3578\n",
            "Epoch 162/500\n",
            "52/52 [==============================] - 1s 24ms/step - loss: 2.0802 - accuracy: 0.3546\n",
            "Epoch 163/500\n",
            "52/52 [==============================] - 1s 24ms/step - loss: 2.0426 - accuracy: 0.3600\n",
            "Epoch 164/500\n",
            "52/52 [==============================] - 1s 24ms/step - loss: 2.0457 - accuracy: 0.3639\n",
            "Epoch 165/500\n",
            "52/52 [==============================] - 1s 24ms/step - loss: 2.0480 - accuracy: 0.3603\n",
            "Epoch 166/500\n",
            "52/52 [==============================] - 1s 24ms/step - loss: 2.0507 - accuracy: 0.3596\n",
            "Epoch 167/500\n",
            "52/52 [==============================] - 1s 24ms/step - loss: 2.0480 - accuracy: 0.3581\n",
            "Epoch 168/500\n",
            "52/52 [==============================] - 1s 24ms/step - loss: 2.0930 - accuracy: 0.3493\n",
            "Epoch 169/500\n",
            "52/52 [==============================] - 1s 24ms/step - loss: 2.0772 - accuracy: 0.3569\n",
            "Epoch 170/500\n",
            "52/52 [==============================] - 1s 25ms/step - loss: 2.0438 - accuracy: 0.3607\n",
            "Epoch 171/500\n",
            "52/52 [==============================] - 1s 24ms/step - loss: 2.0450 - accuracy: 0.3615\n",
            "Epoch 172/500\n",
            "52/52 [==============================] - 1s 24ms/step - loss: 2.1063 - accuracy: 0.3484\n",
            "Epoch 173/500\n",
            "52/52 [==============================] - 1s 25ms/step - loss: 2.0569 - accuracy: 0.3595\n",
            "Epoch 174/500\n",
            "52/52 [==============================] - 1s 24ms/step - loss: 2.0609 - accuracy: 0.3583\n",
            "Epoch 175/500\n",
            "52/52 [==============================] - 1s 24ms/step - loss: 2.0571 - accuracy: 0.3594\n",
            "Epoch 176/500\n",
            "52/52 [==============================] - 1s 25ms/step - loss: 2.0393 - accuracy: 0.3629\n",
            "Epoch 177/500\n",
            "52/52 [==============================] - 1s 24ms/step - loss: 2.0547 - accuracy: 0.3603\n",
            "Epoch 178/500\n",
            "52/52 [==============================] - 1s 24ms/step - loss: 2.0479 - accuracy: 0.3616\n",
            "Epoch 179/500\n",
            "52/52 [==============================] - 1s 24ms/step - loss: 2.0374 - accuracy: 0.3615\n",
            "Epoch 180/500\n",
            "52/52 [==============================] - 1s 25ms/step - loss: 2.0302 - accuracy: 0.3631\n",
            "Epoch 181/500\n",
            "52/52 [==============================] - 1s 24ms/step - loss: 2.0658 - accuracy: 0.3553\n",
            "Epoch 182/500\n",
            "52/52 [==============================] - 1s 24ms/step - loss: 2.0211 - accuracy: 0.3638\n",
            "Epoch 183/500\n",
            "52/52 [==============================] - 1s 25ms/step - loss: 2.0328 - accuracy: 0.3638\n",
            "Epoch 184/500\n",
            "52/52 [==============================] - 1s 25ms/step - loss: 2.1196 - accuracy: 0.3506\n",
            "Epoch 185/500\n",
            "52/52 [==============================] - 1s 24ms/step - loss: 2.0060 - accuracy: 0.3703\n",
            "Epoch 186/500\n",
            "52/52 [==============================] - 1s 24ms/step - loss: 2.0152 - accuracy: 0.3638\n",
            "Epoch 187/500\n",
            "52/52 [==============================] - 1s 24ms/step - loss: 1.9974 - accuracy: 0.3691\n",
            "Epoch 188/500\n",
            "52/52 [==============================] - 1s 25ms/step - loss: 2.0307 - accuracy: 0.3627\n",
            "Epoch 189/500\n",
            "52/52 [==============================] - 1s 24ms/step - loss: 2.0385 - accuracy: 0.3639\n",
            "Epoch 190/500\n",
            "52/52 [==============================] - 1s 24ms/step - loss: 2.0614 - accuracy: 0.3565\n",
            "Epoch 191/500\n",
            "52/52 [==============================] - 1s 24ms/step - loss: 1.9983 - accuracy: 0.3702\n",
            "Epoch 192/500\n",
            "52/52 [==============================] - 1s 24ms/step - loss: 1.9982 - accuracy: 0.3697\n",
            "Epoch 193/500\n",
            "52/52 [==============================] - 1s 25ms/step - loss: 2.0148 - accuracy: 0.3699\n",
            "Epoch 194/500\n",
            "52/52 [==============================] - 1s 24ms/step - loss: 2.0124 - accuracy: 0.3648\n",
            "Epoch 195/500\n",
            "52/52 [==============================] - 1s 24ms/step - loss: 2.0056 - accuracy: 0.3659\n",
            "Epoch 196/500\n",
            "52/52 [==============================] - 1s 24ms/step - loss: 1.9918 - accuracy: 0.3702\n",
            "Epoch 197/500\n",
            "52/52 [==============================] - 1s 25ms/step - loss: 1.9837 - accuracy: 0.3707\n",
            "Epoch 198/500\n",
            "52/52 [==============================] - 1s 25ms/step - loss: 1.9901 - accuracy: 0.3736\n",
            "Epoch 199/500\n",
            "52/52 [==============================] - 1s 24ms/step - loss: 1.9662 - accuracy: 0.3770\n",
            "Epoch 200/500\n",
            "52/52 [==============================] - 1s 25ms/step - loss: 2.0858 - accuracy: 0.3582\n",
            "Epoch 201/500\n",
            "52/52 [==============================] - 1s 25ms/step - loss: 2.0118 - accuracy: 0.3693\n",
            "Epoch 202/500\n",
            "52/52 [==============================] - 1s 24ms/step - loss: 1.9707 - accuracy: 0.3787\n",
            "Epoch 203/500\n",
            "52/52 [==============================] - 1s 24ms/step - loss: 2.0220 - accuracy: 0.3691\n",
            "Epoch 204/500\n",
            "52/52 [==============================] - 1s 24ms/step - loss: 1.9532 - accuracy: 0.3805\n",
            "Epoch 205/500\n",
            "52/52 [==============================] - 1s 24ms/step - loss: 1.9922 - accuracy: 0.3734\n",
            "Epoch 206/500\n",
            "52/52 [==============================] - 1s 24ms/step - loss: 1.9594 - accuracy: 0.3787\n",
            "Epoch 207/500\n",
            "52/52 [==============================] - 1s 24ms/step - loss: 1.9818 - accuracy: 0.3708\n",
            "Epoch 208/500\n",
            "52/52 [==============================] - 1s 24ms/step - loss: 1.9603 - accuracy: 0.3754\n",
            "Epoch 209/500\n",
            "52/52 [==============================] - 1s 24ms/step - loss: 1.9973 - accuracy: 0.3711\n",
            "Epoch 210/500\n",
            "52/52 [==============================] - 1s 24ms/step - loss: 1.9566 - accuracy: 0.3775\n",
            "Epoch 211/500\n",
            "52/52 [==============================] - 1s 24ms/step - loss: 1.9768 - accuracy: 0.3742\n",
            "Epoch 212/500\n",
            "52/52 [==============================] - 1s 24ms/step - loss: 1.9696 - accuracy: 0.3752\n",
            "Epoch 213/500\n",
            "52/52 [==============================] - 1s 24ms/step - loss: 1.9666 - accuracy: 0.3786\n",
            "Epoch 214/500\n",
            "52/52 [==============================] - 1s 24ms/step - loss: 1.9674 - accuracy: 0.3798\n",
            "Epoch 215/500\n",
            "52/52 [==============================] - 1s 24ms/step - loss: 1.9554 - accuracy: 0.3807\n",
            "Epoch 216/500\n",
            "52/52 [==============================] - 1s 24ms/step - loss: 1.9783 - accuracy: 0.3749\n",
            "Epoch 217/500\n",
            "52/52 [==============================] - 1s 24ms/step - loss: 1.9553 - accuracy: 0.3802\n",
            "Epoch 218/500\n",
            "52/52 [==============================] - 1s 24ms/step - loss: 2.0252 - accuracy: 0.3683\n",
            "Epoch 219/500\n",
            "52/52 [==============================] - 1s 24ms/step - loss: 1.9569 - accuracy: 0.3797\n",
            "Epoch 220/500\n",
            "52/52 [==============================] - 1s 24ms/step - loss: 1.9471 - accuracy: 0.3821\n",
            "Epoch 221/500\n",
            "52/52 [==============================] - 1s 24ms/step - loss: 1.9551 - accuracy: 0.3815\n",
            "Epoch 222/500\n",
            "52/52 [==============================] - 1s 24ms/step - loss: 1.9541 - accuracy: 0.3803\n",
            "Epoch 223/500\n",
            "52/52 [==============================] - 1s 25ms/step - loss: 1.9572 - accuracy: 0.3801\n",
            "Epoch 224/500\n",
            "52/52 [==============================] - 1s 24ms/step - loss: 1.9532 - accuracy: 0.3838\n",
            "Epoch 225/500\n",
            "52/52 [==============================] - 1s 24ms/step - loss: 1.9806 - accuracy: 0.3752\n",
            "Epoch 226/500\n",
            "52/52 [==============================] - 1s 24ms/step - loss: 1.9175 - accuracy: 0.3890\n",
            "Epoch 227/500\n",
            "52/52 [==============================] - 1s 24ms/step - loss: 1.9336 - accuracy: 0.3810\n",
            "Epoch 228/500\n",
            "52/52 [==============================] - 1s 24ms/step - loss: 1.9630 - accuracy: 0.3812\n",
            "Epoch 229/500\n",
            "52/52 [==============================] - 1s 24ms/step - loss: 1.9765 - accuracy: 0.3723\n",
            "Epoch 230/500\n",
            "52/52 [==============================] - 1s 24ms/step - loss: 1.9403 - accuracy: 0.3802\n",
            "Epoch 231/500\n",
            "52/52 [==============================] - 1s 24ms/step - loss: 1.9218 - accuracy: 0.3864\n",
            "Epoch 232/500\n",
            "52/52 [==============================] - 1s 24ms/step - loss: 1.9476 - accuracy: 0.3821\n",
            "Epoch 233/500\n",
            "52/52 [==============================] - 1s 24ms/step - loss: 1.9168 - accuracy: 0.3868\n",
            "Epoch 234/500\n",
            "52/52 [==============================] - 1s 24ms/step - loss: 1.9253 - accuracy: 0.3898\n",
            "Epoch 235/500\n",
            "52/52 [==============================] - 1s 24ms/step - loss: 2.0053 - accuracy: 0.3715\n",
            "Epoch 236/500\n",
            "52/52 [==============================] - 1s 24ms/step - loss: 1.9108 - accuracy: 0.3861\n",
            "Epoch 237/500\n",
            "52/52 [==============================] - 1s 24ms/step - loss: 1.9212 - accuracy: 0.3882\n",
            "Epoch 238/500\n",
            "52/52 [==============================] - 1s 24ms/step - loss: 1.8923 - accuracy: 0.3941\n",
            "Epoch 239/500\n",
            "52/52 [==============================] - 1s 24ms/step - loss: 1.9564 - accuracy: 0.3803\n",
            "Epoch 240/500\n",
            "52/52 [==============================] - 1s 25ms/step - loss: 2.0164 - accuracy: 0.3724\n",
            "Epoch 241/500\n",
            "52/52 [==============================] - 1s 24ms/step - loss: 1.9511 - accuracy: 0.3810\n",
            "Epoch 242/500\n",
            "52/52 [==============================] - 1s 25ms/step - loss: 1.9319 - accuracy: 0.3817\n",
            "Epoch 243/500\n",
            "52/52 [==============================] - 1s 24ms/step - loss: 1.9382 - accuracy: 0.3847\n",
            "Epoch 244/500\n",
            "52/52 [==============================] - 1s 24ms/step - loss: 1.8902 - accuracy: 0.3951\n",
            "Epoch 245/500\n",
            "52/52 [==============================] - 1s 24ms/step - loss: 1.9083 - accuracy: 0.3903\n",
            "Epoch 246/500\n",
            "52/52 [==============================] - 1s 24ms/step - loss: 1.9190 - accuracy: 0.3871\n",
            "Epoch 247/500\n",
            "52/52 [==============================] - 1s 25ms/step - loss: 1.9681 - accuracy: 0.3812\n",
            "Epoch 248/500\n",
            "52/52 [==============================] - 1s 24ms/step - loss: 1.9090 - accuracy: 0.3938\n",
            "Epoch 249/500\n",
            "52/52 [==============================] - 1s 24ms/step - loss: 1.9598 - accuracy: 0.3852\n",
            "Epoch 250/500\n",
            "52/52 [==============================] - 1s 24ms/step - loss: 1.9180 - accuracy: 0.3872\n",
            "Epoch 251/500\n",
            "52/52 [==============================] - 1s 25ms/step - loss: 1.9558 - accuracy: 0.3803\n",
            "Epoch 252/500\n",
            "52/52 [==============================] - 1s 24ms/step - loss: 1.8986 - accuracy: 0.3936\n",
            "Epoch 253/500\n",
            "52/52 [==============================] - 1s 24ms/step - loss: 1.9280 - accuracy: 0.3890\n",
            "Epoch 254/500\n",
            "52/52 [==============================] - 1s 24ms/step - loss: 1.9225 - accuracy: 0.3901\n",
            "Epoch 255/500\n",
            "52/52 [==============================] - 1s 24ms/step - loss: 1.8804 - accuracy: 0.3972\n",
            "Epoch 256/500\n",
            "52/52 [==============================] - 1s 24ms/step - loss: 1.8960 - accuracy: 0.3942\n",
            "Epoch 257/500\n",
            "52/52 [==============================] - 1s 24ms/step - loss: 1.9447 - accuracy: 0.3822\n",
            "Epoch 258/500\n",
            "52/52 [==============================] - 1s 24ms/step - loss: 1.8886 - accuracy: 0.3957\n",
            "Epoch 259/500\n",
            "52/52 [==============================] - 1s 24ms/step - loss: 1.9082 - accuracy: 0.3912\n",
            "Epoch 260/500\n",
            "52/52 [==============================] - 1s 24ms/step - loss: 1.8924 - accuracy: 0.3958\n",
            "Epoch 261/500\n",
            "52/52 [==============================] - 1s 24ms/step - loss: 1.8935 - accuracy: 0.3954\n",
            "Epoch 262/500\n",
            "52/52 [==============================] - 1s 24ms/step - loss: 1.9230 - accuracy: 0.3906\n",
            "Epoch 263/500\n",
            "52/52 [==============================] - 1s 24ms/step - loss: 1.8885 - accuracy: 0.3965\n",
            "Epoch 264/500\n",
            "52/52 [==============================] - 1s 25ms/step - loss: 1.8844 - accuracy: 0.3959\n",
            "Epoch 265/500\n",
            "52/52 [==============================] - 1s 24ms/step - loss: 1.9019 - accuracy: 0.3973\n",
            "Epoch 266/500\n",
            "52/52 [==============================] - 1s 24ms/step - loss: 1.9072 - accuracy: 0.3944\n",
            "Epoch 267/500\n",
            "52/52 [==============================] - 1s 24ms/step - loss: 1.8836 - accuracy: 0.3958\n",
            "Epoch 268/500\n",
            "52/52 [==============================] - 1s 24ms/step - loss: 1.8893 - accuracy: 0.3954\n",
            "Epoch 269/500\n",
            "52/52 [==============================] - 1s 24ms/step - loss: 1.9101 - accuracy: 0.3904\n",
            "Epoch 270/500\n",
            "52/52 [==============================] - 1s 24ms/step - loss: 1.9104 - accuracy: 0.3885\n",
            "Epoch 271/500\n",
            "52/52 [==============================] - 1s 24ms/step - loss: 1.8756 - accuracy: 0.3997\n",
            "Epoch 272/500\n",
            "52/52 [==============================] - 1s 24ms/step - loss: 1.8870 - accuracy: 0.3950\n",
            "Epoch 273/500\n",
            "52/52 [==============================] - 1s 24ms/step - loss: 1.8719 - accuracy: 0.4009\n",
            "Epoch 274/500\n",
            "52/52 [==============================] - 1s 24ms/step - loss: 1.9376 - accuracy: 0.3882\n",
            "Epoch 275/500\n",
            "52/52 [==============================] - 1s 24ms/step - loss: 1.8555 - accuracy: 0.4026\n",
            "Epoch 276/500\n",
            "52/52 [==============================] - 1s 24ms/step - loss: 1.9134 - accuracy: 0.3917\n",
            "Epoch 277/500\n",
            "52/52 [==============================] - 1s 24ms/step - loss: 1.8834 - accuracy: 0.3980\n",
            "Epoch 278/500\n",
            "52/52 [==============================] - 1s 24ms/step - loss: 1.8735 - accuracy: 0.4014\n",
            "Epoch 279/500\n",
            "52/52 [==============================] - 1s 24ms/step - loss: 1.8905 - accuracy: 0.3969\n",
            "Epoch 280/500\n",
            "52/52 [==============================] - 1s 25ms/step - loss: 1.8718 - accuracy: 0.3990\n",
            "Epoch 281/500\n",
            "52/52 [==============================] - 1s 24ms/step - loss: 1.8666 - accuracy: 0.4047\n",
            "Epoch 282/500\n",
            "52/52 [==============================] - 1s 24ms/step - loss: 1.9228 - accuracy: 0.3900\n",
            "Epoch 283/500\n",
            "52/52 [==============================] - 1s 24ms/step - loss: 1.8789 - accuracy: 0.3972\n",
            "Epoch 284/500\n",
            "52/52 [==============================] - 1s 24ms/step - loss: 1.8695 - accuracy: 0.4005\n",
            "Epoch 285/500\n",
            "52/52 [==============================] - 1s 24ms/step - loss: 1.8804 - accuracy: 0.3931\n",
            "Epoch 286/500\n",
            "52/52 [==============================] - 1s 24ms/step - loss: 1.8503 - accuracy: 0.4059\n",
            "Epoch 287/500\n",
            "52/52 [==============================] - 1s 24ms/step - loss: 1.8424 - accuracy: 0.4059\n",
            "Epoch 288/500\n",
            "52/52 [==============================] - 1s 24ms/step - loss: 1.8446 - accuracy: 0.4052\n",
            "Epoch 289/500\n",
            "52/52 [==============================] - 1s 24ms/step - loss: 1.8486 - accuracy: 0.4079\n",
            "Epoch 290/500\n",
            "52/52 [==============================] - 1s 24ms/step - loss: 1.8556 - accuracy: 0.4051\n",
            "Epoch 291/500\n",
            "52/52 [==============================] - 1s 24ms/step - loss: 1.8712 - accuracy: 0.4035\n",
            "Epoch 292/500\n",
            "52/52 [==============================] - 1s 25ms/step - loss: 1.8644 - accuracy: 0.4025\n",
            "Epoch 293/500\n",
            "52/52 [==============================] - 1s 24ms/step - loss: 1.8691 - accuracy: 0.3989\n",
            "Epoch 294/500\n",
            "52/52 [==============================] - 1s 24ms/step - loss: 1.8473 - accuracy: 0.4073\n",
            "Epoch 295/500\n",
            "52/52 [==============================] - 1s 25ms/step - loss: 1.8449 - accuracy: 0.4060\n",
            "Epoch 296/500\n",
            "52/52 [==============================] - 1s 24ms/step - loss: 1.8869 - accuracy: 0.4024\n",
            "Epoch 297/500\n",
            "52/52 [==============================] - 1s 24ms/step - loss: 1.8619 - accuracy: 0.4022\n",
            "Epoch 298/500\n",
            "52/52 [==============================] - 1s 24ms/step - loss: 1.8596 - accuracy: 0.4048\n",
            "Epoch 299/500\n",
            "52/52 [==============================] - 1s 24ms/step - loss: 1.8200 - accuracy: 0.4157\n",
            "Epoch 300/500\n",
            "52/52 [==============================] - 1s 24ms/step - loss: 1.8954 - accuracy: 0.3964\n",
            "Epoch 301/500\n",
            "52/52 [==============================] - 1s 24ms/step - loss: 1.8429 - accuracy: 0.4070\n",
            "Epoch 302/500\n",
            "52/52 [==============================] - 1s 24ms/step - loss: 1.8420 - accuracy: 0.4061\n",
            "Epoch 303/500\n",
            "52/52 [==============================] - 1s 24ms/step - loss: 1.8271 - accuracy: 0.4131\n",
            "Epoch 304/500\n",
            "52/52 [==============================] - 1s 24ms/step - loss: 1.8448 - accuracy: 0.4045\n",
            "Epoch 305/500\n",
            "52/52 [==============================] - 1s 24ms/step - loss: 2.0011 - accuracy: 0.3913\n",
            "Epoch 306/500\n",
            "52/52 [==============================] - 1s 24ms/step - loss: 1.8940 - accuracy: 0.4002\n",
            "Epoch 307/500\n",
            "52/52 [==============================] - 1s 24ms/step - loss: 1.8862 - accuracy: 0.4014\n",
            "Epoch 308/500\n",
            "52/52 [==============================] - 1s 25ms/step - loss: 1.8400 - accuracy: 0.4084\n",
            "Epoch 309/500\n",
            "52/52 [==============================] - 1s 24ms/step - loss: 1.8245 - accuracy: 0.4115\n",
            "Epoch 310/500\n",
            "52/52 [==============================] - 1s 24ms/step - loss: 1.8385 - accuracy: 0.4099\n",
            "Epoch 311/500\n",
            "52/52 [==============================] - 1s 24ms/step - loss: 1.8142 - accuracy: 0.4142\n",
            "Epoch 312/500\n",
            "52/52 [==============================] - 1s 24ms/step - loss: 1.8305 - accuracy: 0.4112\n",
            "Epoch 313/500\n",
            "52/52 [==============================] - 1s 24ms/step - loss: 1.8594 - accuracy: 0.4068\n",
            "Epoch 314/500\n",
            "52/52 [==============================] - 1s 24ms/step - loss: 1.8244 - accuracy: 0.4117\n",
            "Epoch 315/500\n",
            "52/52 [==============================] - 1s 24ms/step - loss: 1.8799 - accuracy: 0.4001\n",
            "Epoch 316/500\n",
            "52/52 [==============================] - 1s 24ms/step - loss: 1.8441 - accuracy: 0.4070\n",
            "Epoch 317/500\n",
            "52/52 [==============================] - 1s 24ms/step - loss: 1.8062 - accuracy: 0.4169\n",
            "Epoch 318/500\n",
            "52/52 [==============================] - 1s 24ms/step - loss: 1.8656 - accuracy: 0.4039\n",
            "Epoch 319/500\n",
            "52/52 [==============================] - 1s 24ms/step - loss: 1.8200 - accuracy: 0.4168\n",
            "Epoch 320/500\n",
            "52/52 [==============================] - 1s 24ms/step - loss: 1.8154 - accuracy: 0.4160\n",
            "Epoch 321/500\n",
            "52/52 [==============================] - 1s 24ms/step - loss: 1.8404 - accuracy: 0.4122\n",
            "Epoch 322/500\n",
            "52/52 [==============================] - 1s 24ms/step - loss: 1.8585 - accuracy: 0.4067\n",
            "Epoch 323/500\n",
            "52/52 [==============================] - 1s 24ms/step - loss: 1.8175 - accuracy: 0.4151\n",
            "Epoch 324/500\n",
            "52/52 [==============================] - 1s 24ms/step - loss: 1.8609 - accuracy: 0.4020\n",
            "Epoch 325/500\n",
            "52/52 [==============================] - 1s 25ms/step - loss: 1.8139 - accuracy: 0.4139\n",
            "Epoch 326/500\n",
            "52/52 [==============================] - 1s 24ms/step - loss: 1.8297 - accuracy: 0.4143\n",
            "Epoch 327/500\n",
            "52/52 [==============================] - 1s 24ms/step - loss: 1.8462 - accuracy: 0.4080\n",
            "Epoch 328/500\n",
            "52/52 [==============================] - 1s 24ms/step - loss: 1.8189 - accuracy: 0.4136\n",
            "Epoch 329/500\n",
            "52/52 [==============================] - 1s 24ms/step - loss: 1.8278 - accuracy: 0.4165\n",
            "Epoch 330/500\n",
            "52/52 [==============================] - 1s 24ms/step - loss: 1.7847 - accuracy: 0.4185\n",
            "Epoch 331/500\n",
            "52/52 [==============================] - 1s 25ms/step - loss: 1.8200 - accuracy: 0.4106\n",
            "Epoch 332/500\n",
            "52/52 [==============================] - 1s 24ms/step - loss: 1.8224 - accuracy: 0.4155\n",
            "Epoch 333/500\n",
            "52/52 [==============================] - 1s 24ms/step - loss: 1.8774 - accuracy: 0.4007\n",
            "Epoch 334/500\n",
            "52/52 [==============================] - 1s 24ms/step - loss: 1.8137 - accuracy: 0.4140\n",
            "Epoch 335/500\n",
            "52/52 [==============================] - 1s 25ms/step - loss: 1.8493 - accuracy: 0.4114\n",
            "Epoch 336/500\n",
            "52/52 [==============================] - 1s 24ms/step - loss: 1.7915 - accuracy: 0.4216\n",
            "Epoch 337/500\n",
            "52/52 [==============================] - 1s 24ms/step - loss: 1.8127 - accuracy: 0.4108\n",
            "Epoch 338/500\n",
            "52/52 [==============================] - 1s 25ms/step - loss: 1.8215 - accuracy: 0.4094\n",
            "Epoch 339/500\n",
            "52/52 [==============================] - 1s 24ms/step - loss: 1.7935 - accuracy: 0.4182\n",
            "Epoch 340/500\n",
            "52/52 [==============================] - 1s 24ms/step - loss: 1.8371 - accuracy: 0.4068\n",
            "Epoch 341/500\n",
            "52/52 [==============================] - 1s 24ms/step - loss: 1.8129 - accuracy: 0.4165\n",
            "Epoch 342/500\n",
            "52/52 [==============================] - 1s 24ms/step - loss: 1.7862 - accuracy: 0.4249\n",
            "Epoch 343/500\n",
            "52/52 [==============================] - 1s 24ms/step - loss: 1.8018 - accuracy: 0.4164\n",
            "Epoch 344/500\n",
            "52/52 [==============================] - 1s 24ms/step - loss: 1.8149 - accuracy: 0.4110\n",
            "Epoch 345/500\n",
            "52/52 [==============================] - 1s 25ms/step - loss: 1.7961 - accuracy: 0.4172\n",
            "Epoch 346/500\n",
            "52/52 [==============================] - 1s 24ms/step - loss: 1.8370 - accuracy: 0.4122\n",
            "Epoch 347/500\n",
            "52/52 [==============================] - 1s 25ms/step - loss: 1.8393 - accuracy: 0.4104\n",
            "Epoch 348/500\n",
            "52/52 [==============================] - 1s 24ms/step - loss: 1.8009 - accuracy: 0.4159\n",
            "Epoch 349/500\n",
            "52/52 [==============================] - 1s 24ms/step - loss: 1.7886 - accuracy: 0.4209\n",
            "Epoch 350/500\n",
            "52/52 [==============================] - 1s 24ms/step - loss: 1.7820 - accuracy: 0.4233\n",
            "Epoch 351/500\n",
            "52/52 [==============================] - 1s 24ms/step - loss: 1.7938 - accuracy: 0.4197\n",
            "Epoch 352/500\n",
            "52/52 [==============================] - 1s 24ms/step - loss: 1.7878 - accuracy: 0.4214\n",
            "Epoch 353/500\n",
            "52/52 [==============================] - 1s 24ms/step - loss: 1.8031 - accuracy: 0.4177\n",
            "Epoch 354/500\n",
            "52/52 [==============================] - 1s 24ms/step - loss: 1.8065 - accuracy: 0.4179\n",
            "Epoch 355/500\n",
            "52/52 [==============================] - 1s 24ms/step - loss: 1.7900 - accuracy: 0.4172\n",
            "Epoch 356/500\n",
            "52/52 [==============================] - 1s 24ms/step - loss: 1.7854 - accuracy: 0.4230\n",
            "Epoch 357/500\n",
            "52/52 [==============================] - 1s 25ms/step - loss: 1.7962 - accuracy: 0.4183\n",
            "Epoch 358/500\n",
            "52/52 [==============================] - 1s 25ms/step - loss: 1.7756 - accuracy: 0.4244\n",
            "Epoch 359/500\n",
            "52/52 [==============================] - 1s 25ms/step - loss: 1.8878 - accuracy: 0.4036\n",
            "Epoch 360/500\n",
            "52/52 [==============================] - 1s 24ms/step - loss: 1.7874 - accuracy: 0.4196\n",
            "Epoch 361/500\n",
            "52/52 [==============================] - 1s 24ms/step - loss: 1.7695 - accuracy: 0.4237\n",
            "Epoch 362/500\n",
            "52/52 [==============================] - 1s 24ms/step - loss: 1.8248 - accuracy: 0.4174\n",
            "Epoch 363/500\n",
            "52/52 [==============================] - 1s 24ms/step - loss: 1.8071 - accuracy: 0.4204\n",
            "Epoch 364/500\n",
            "52/52 [==============================] - 1s 24ms/step - loss: 1.7821 - accuracy: 0.4224\n",
            "Epoch 365/500\n",
            "52/52 [==============================] - 1s 24ms/step - loss: 1.7799 - accuracy: 0.4262\n",
            "Epoch 366/500\n",
            "52/52 [==============================] - 1s 24ms/step - loss: 1.7998 - accuracy: 0.4196\n",
            "Epoch 367/500\n",
            "52/52 [==============================] - 1s 24ms/step - loss: 1.7786 - accuracy: 0.4218\n",
            "Epoch 368/500\n",
            "52/52 [==============================] - 1s 24ms/step - loss: 1.7841 - accuracy: 0.4239\n",
            "Epoch 369/500\n",
            "52/52 [==============================] - 1s 24ms/step - loss: 1.7584 - accuracy: 0.4271\n",
            "Epoch 370/500\n",
            "52/52 [==============================] - 1s 25ms/step - loss: 1.7929 - accuracy: 0.4194\n",
            "Epoch 371/500\n",
            "52/52 [==============================] - 1s 25ms/step - loss: 1.7777 - accuracy: 0.4234\n",
            "Epoch 372/500\n",
            "52/52 [==============================] - 1s 24ms/step - loss: 1.7747 - accuracy: 0.4254\n",
            "Epoch 373/500\n",
            "52/52 [==============================] - 1s 25ms/step - loss: 1.7673 - accuracy: 0.4253\n",
            "Epoch 374/500\n",
            "52/52 [==============================] - 1s 25ms/step - loss: 1.7799 - accuracy: 0.4262\n",
            "Epoch 375/500\n",
            "52/52 [==============================] - 1s 24ms/step - loss: 1.8049 - accuracy: 0.4146\n",
            "Epoch 376/500\n",
            "52/52 [==============================] - 1s 25ms/step - loss: 1.8778 - accuracy: 0.4069\n",
            "Epoch 377/500\n",
            "52/52 [==============================] - 1s 24ms/step - loss: 1.8285 - accuracy: 0.4131\n",
            "Epoch 378/500\n",
            "52/52 [==============================] - 1s 24ms/step - loss: 1.8056 - accuracy: 0.4163\n",
            "Epoch 379/500\n",
            "52/52 [==============================] - 1s 24ms/step - loss: 1.7832 - accuracy: 0.4266\n",
            "Epoch 380/500\n",
            "52/52 [==============================] - 1s 24ms/step - loss: 1.8008 - accuracy: 0.4182\n",
            "Epoch 381/500\n",
            "52/52 [==============================] - 1s 24ms/step - loss: 1.7911 - accuracy: 0.4188\n",
            "Epoch 382/500\n",
            "52/52 [==============================] - 1s 24ms/step - loss: 1.8093 - accuracy: 0.4208\n",
            "Epoch 383/500\n",
            "52/52 [==============================] - 1s 24ms/step - loss: 1.7859 - accuracy: 0.4200\n",
            "Epoch 384/500\n",
            "52/52 [==============================] - 1s 25ms/step - loss: 1.8032 - accuracy: 0.4189\n",
            "Epoch 385/500\n",
            "52/52 [==============================] - 1s 24ms/step - loss: 1.8342 - accuracy: 0.4123\n",
            "Epoch 386/500\n",
            "52/52 [==============================] - 1s 24ms/step - loss: 1.7789 - accuracy: 0.4250\n",
            "Epoch 387/500\n",
            "52/52 [==============================] - 1s 24ms/step - loss: 1.7636 - accuracy: 0.4280\n",
            "Epoch 388/500\n",
            "52/52 [==============================] - 1s 24ms/step - loss: 1.7762 - accuracy: 0.4231\n",
            "Epoch 389/500\n",
            "52/52 [==============================] - 1s 24ms/step - loss: 1.7970 - accuracy: 0.4240\n",
            "Epoch 390/500\n",
            "52/52 [==============================] - 1s 24ms/step - loss: 1.8295 - accuracy: 0.4132\n",
            "Epoch 391/500\n",
            "52/52 [==============================] - 1s 24ms/step - loss: 1.7925 - accuracy: 0.4232\n",
            "Epoch 392/500\n",
            "52/52 [==============================] - 1s 24ms/step - loss: 1.7488 - accuracy: 0.4309\n",
            "Epoch 393/500\n",
            "52/52 [==============================] - 1s 24ms/step - loss: 1.8074 - accuracy: 0.4158\n",
            "Epoch 394/500\n",
            "52/52 [==============================] - 1s 24ms/step - loss: 1.8658 - accuracy: 0.4125\n",
            "Epoch 395/500\n",
            "52/52 [==============================] - 1s 25ms/step - loss: 1.7849 - accuracy: 0.4201\n",
            "Epoch 396/500\n",
            "52/52 [==============================] - 1s 24ms/step - loss: 1.7425 - accuracy: 0.4339\n",
            "Epoch 397/500\n",
            "52/52 [==============================] - 1s 24ms/step - loss: 1.7852 - accuracy: 0.4236\n",
            "Epoch 398/500\n",
            "52/52 [==============================] - 1s 24ms/step - loss: 1.8119 - accuracy: 0.4205\n",
            "Epoch 399/500\n",
            "52/52 [==============================] - 1s 25ms/step - loss: 1.7784 - accuracy: 0.4273\n",
            "Epoch 400/500\n",
            "52/52 [==============================] - 1s 24ms/step - loss: 1.7905 - accuracy: 0.4226\n",
            "Epoch 401/500\n",
            "52/52 [==============================] - 1s 24ms/step - loss: 1.7773 - accuracy: 0.4238\n",
            "Epoch 402/500\n",
            "52/52 [==============================] - 1s 24ms/step - loss: 1.7966 - accuracy: 0.4216\n",
            "Epoch 403/500\n",
            "52/52 [==============================] - 1s 24ms/step - loss: 1.7662 - accuracy: 0.4262\n",
            "Epoch 404/500\n",
            "52/52 [==============================] - 1s 24ms/step - loss: 1.9261 - accuracy: 0.3979\n",
            "Epoch 405/500\n",
            "52/52 [==============================] - 1s 24ms/step - loss: 1.7903 - accuracy: 0.4234\n",
            "Epoch 406/500\n",
            "52/52 [==============================] - 1s 24ms/step - loss: 1.7687 - accuracy: 0.4265\n",
            "Epoch 407/500\n",
            "52/52 [==============================] - 1s 24ms/step - loss: 1.7608 - accuracy: 0.4274\n",
            "Epoch 408/500\n",
            "52/52 [==============================] - 1s 25ms/step - loss: 1.7785 - accuracy: 0.4256\n",
            "Epoch 409/500\n",
            "52/52 [==============================] - 1s 24ms/step - loss: 1.8183 - accuracy: 0.4113\n",
            "Epoch 410/500\n",
            "52/52 [==============================] - 1s 24ms/step - loss: 1.8025 - accuracy: 0.4179\n",
            "Epoch 411/500\n",
            "52/52 [==============================] - 1s 24ms/step - loss: 1.7673 - accuracy: 0.4291\n",
            "Epoch 412/500\n",
            "52/52 [==============================] - 1s 24ms/step - loss: 1.7781 - accuracy: 0.4236\n",
            "Epoch 413/500\n",
            "52/52 [==============================] - 1s 24ms/step - loss: 1.7673 - accuracy: 0.4287\n",
            "Epoch 414/500\n",
            "52/52 [==============================] - 1s 24ms/step - loss: 1.7771 - accuracy: 0.4286\n",
            "Epoch 415/500\n",
            "52/52 [==============================] - 1s 24ms/step - loss: 1.7630 - accuracy: 0.4273\n",
            "Epoch 416/500\n",
            "52/52 [==============================] - 1s 24ms/step - loss: 1.7687 - accuracy: 0.4272\n",
            "Epoch 417/500\n",
            "52/52 [==============================] - 1s 24ms/step - loss: 1.7649 - accuracy: 0.4313\n",
            "Epoch 418/500\n",
            "52/52 [==============================] - 1s 24ms/step - loss: 1.7912 - accuracy: 0.4230\n",
            "Epoch 419/500\n",
            "52/52 [==============================] - 1s 24ms/step - loss: 1.7935 - accuracy: 0.4187\n",
            "Epoch 420/500\n",
            "52/52 [==============================] - 1s 24ms/step - loss: 1.7734 - accuracy: 0.4266\n",
            "Epoch 421/500\n",
            "52/52 [==============================] - 1s 24ms/step - loss: 1.8374 - accuracy: 0.4136\n",
            "Epoch 422/500\n",
            "52/52 [==============================] - 1s 24ms/step - loss: 1.7946 - accuracy: 0.4194\n",
            "Epoch 423/500\n",
            "52/52 [==============================] - 1s 25ms/step - loss: 1.7538 - accuracy: 0.4323\n",
            "Epoch 424/500\n",
            "52/52 [==============================] - 1s 24ms/step - loss: 1.7801 - accuracy: 0.4246\n",
            "Epoch 425/500\n",
            "52/52 [==============================] - 1s 24ms/step - loss: 1.7640 - accuracy: 0.4264\n",
            "Epoch 426/500\n",
            "52/52 [==============================] - 1s 24ms/step - loss: 1.7690 - accuracy: 0.4229\n",
            "Epoch 427/500\n",
            "52/52 [==============================] - 1s 25ms/step - loss: 1.7836 - accuracy: 0.4252\n",
            "Epoch 428/500\n",
            "52/52 [==============================] - 1s 25ms/step - loss: 1.7699 - accuracy: 0.4311\n",
            "Epoch 429/500\n",
            "52/52 [==============================] - 1s 24ms/step - loss: 1.7612 - accuracy: 0.4273\n",
            "Epoch 430/500\n",
            "52/52 [==============================] - 1s 25ms/step - loss: 1.7338 - accuracy: 0.4365\n",
            "Epoch 431/500\n",
            "52/52 [==============================] - 1s 25ms/step - loss: 1.7647 - accuracy: 0.4285\n",
            "Epoch 432/500\n",
            "52/52 [==============================] - 1s 24ms/step - loss: 1.7760 - accuracy: 0.4276\n",
            "Epoch 433/500\n",
            "52/52 [==============================] - 1s 25ms/step - loss: 1.7308 - accuracy: 0.4349\n",
            "Epoch 434/500\n",
            "52/52 [==============================] - 1s 25ms/step - loss: 1.8724 - accuracy: 0.4090\n",
            "Epoch 435/500\n",
            "52/52 [==============================] - 1s 25ms/step - loss: 1.7401 - accuracy: 0.4344\n",
            "Epoch 436/500\n",
            "52/52 [==============================] - 1s 25ms/step - loss: 1.7777 - accuracy: 0.4271\n",
            "Epoch 437/500\n",
            "52/52 [==============================] - 1s 24ms/step - loss: 1.7813 - accuracy: 0.4258\n",
            "Epoch 438/500\n",
            "52/52 [==============================] - 1s 24ms/step - loss: 1.7475 - accuracy: 0.4314\n",
            "Epoch 439/500\n",
            "52/52 [==============================] - 1s 25ms/step - loss: 1.7469 - accuracy: 0.4310\n",
            "Epoch 440/500\n",
            "52/52 [==============================] - 1s 25ms/step - loss: 1.8090 - accuracy: 0.4209\n",
            "Epoch 441/500\n",
            "52/52 [==============================] - 1s 24ms/step - loss: 1.7559 - accuracy: 0.4280\n",
            "Epoch 442/500\n",
            "52/52 [==============================] - 1s 24ms/step - loss: 1.7876 - accuracy: 0.4264\n",
            "Epoch 443/500\n",
            "52/52 [==============================] - 1s 24ms/step - loss: 1.7606 - accuracy: 0.4288\n",
            "Epoch 444/500\n",
            "52/52 [==============================] - 1s 24ms/step - loss: 1.8346 - accuracy: 0.4144\n",
            "Epoch 445/500\n",
            "52/52 [==============================] - 1s 24ms/step - loss: 1.7935 - accuracy: 0.4249\n",
            "Epoch 446/500\n",
            "52/52 [==============================] - 1s 24ms/step - loss: 1.7436 - accuracy: 0.4337\n",
            "Epoch 447/500\n",
            "52/52 [==============================] - 1s 24ms/step - loss: 1.7469 - accuracy: 0.4352\n",
            "Epoch 448/500\n",
            "52/52 [==============================] - 1s 24ms/step - loss: 1.7524 - accuracy: 0.4302\n",
            "Epoch 449/500\n",
            "52/52 [==============================] - 1s 24ms/step - loss: 1.7250 - accuracy: 0.4361\n",
            "Epoch 450/500\n",
            "52/52 [==============================] - 1s 24ms/step - loss: 1.7771 - accuracy: 0.4259\n",
            "Epoch 451/500\n",
            "52/52 [==============================] - 1s 24ms/step - loss: 1.7757 - accuracy: 0.4272\n",
            "Epoch 452/500\n",
            "52/52 [==============================] - 1s 24ms/step - loss: 1.7636 - accuracy: 0.4297\n",
            "Epoch 453/500\n",
            "52/52 [==============================] - 1s 25ms/step - loss: 1.7593 - accuracy: 0.4289\n",
            "Epoch 454/500\n",
            "52/52 [==============================] - 1s 24ms/step - loss: 1.7390 - accuracy: 0.4365\n",
            "Epoch 455/500\n",
            "52/52 [==============================] - 1s 25ms/step - loss: 1.7391 - accuracy: 0.4303\n",
            "Epoch 456/500\n",
            "52/52 [==============================] - 1s 24ms/step - loss: 1.7455 - accuracy: 0.4323\n",
            "Epoch 457/500\n",
            "52/52 [==============================] - 1s 24ms/step - loss: 1.7651 - accuracy: 0.4290\n",
            "Epoch 458/500\n",
            "52/52 [==============================] - 1s 24ms/step - loss: 1.7448 - accuracy: 0.4361\n",
            "Epoch 459/500\n",
            "52/52 [==============================] - 1s 24ms/step - loss: 1.7533 - accuracy: 0.4293\n",
            "Epoch 460/500\n",
            "52/52 [==============================] - 1s 24ms/step - loss: 1.7287 - accuracy: 0.4342\n",
            "Epoch 461/500\n",
            "52/52 [==============================] - 1s 24ms/step - loss: 1.7321 - accuracy: 0.4382\n",
            "Epoch 462/500\n",
            "52/52 [==============================] - 1s 24ms/step - loss: 1.8484 - accuracy: 0.4162\n",
            "Epoch 463/500\n",
            "52/52 [==============================] - 1s 24ms/step - loss: 1.7257 - accuracy: 0.4404\n",
            "Epoch 464/500\n",
            "52/52 [==============================] - 1s 24ms/step - loss: 1.7182 - accuracy: 0.4383\n",
            "Epoch 465/500\n",
            "52/52 [==============================] - 1s 24ms/step - loss: 1.7416 - accuracy: 0.4307\n",
            "Epoch 466/500\n",
            "52/52 [==============================] - 1s 24ms/step - loss: 1.7949 - accuracy: 0.4227\n",
            "Epoch 467/500\n",
            "52/52 [==============================] - 1s 25ms/step - loss: 1.7789 - accuracy: 0.4285\n",
            "Epoch 468/500\n",
            "52/52 [==============================] - 1s 24ms/step - loss: 1.7678 - accuracy: 0.4293\n",
            "Epoch 469/500\n",
            "52/52 [==============================] - 1s 25ms/step - loss: 1.7286 - accuracy: 0.4346\n",
            "Epoch 470/500\n",
            "52/52 [==============================] - 1s 25ms/step - loss: 1.7565 - accuracy: 0.4293\n",
            "Epoch 471/500\n",
            "52/52 [==============================] - 1s 24ms/step - loss: 1.7433 - accuracy: 0.4329\n",
            "Epoch 472/500\n",
            "52/52 [==============================] - 1s 24ms/step - loss: 1.7525 - accuracy: 0.4325\n",
            "Epoch 473/500\n",
            "52/52 [==============================] - 1s 24ms/step - loss: 1.7418 - accuracy: 0.4325\n",
            "Epoch 474/500\n",
            "52/52 [==============================] - 1s 24ms/step - loss: 1.7365 - accuracy: 0.4342\n",
            "Epoch 475/500\n",
            "52/52 [==============================] - 1s 24ms/step - loss: 1.7390 - accuracy: 0.4328\n",
            "Epoch 476/500\n",
            "52/52 [==============================] - 1s 24ms/step - loss: 1.7337 - accuracy: 0.4328\n",
            "Epoch 477/500\n",
            "52/52 [==============================] - 1s 24ms/step - loss: 1.7238 - accuracy: 0.4377\n",
            "Epoch 478/500\n",
            "52/52 [==============================] - 1s 24ms/step - loss: 1.8003 - accuracy: 0.4220\n",
            "Epoch 479/500\n",
            "52/52 [==============================] - 1s 24ms/step - loss: 1.8008 - accuracy: 0.4207\n",
            "Epoch 480/500\n",
            "52/52 [==============================] - 1s 24ms/step - loss: 1.7373 - accuracy: 0.4329\n",
            "Epoch 481/500\n",
            "52/52 [==============================] - 1s 24ms/step - loss: 1.7534 - accuracy: 0.4302\n",
            "Epoch 482/500\n",
            "52/52 [==============================] - 1s 24ms/step - loss: 1.7343 - accuracy: 0.4384\n",
            "Epoch 483/500\n",
            "52/52 [==============================] - 1s 24ms/step - loss: 1.7611 - accuracy: 0.4322\n",
            "Epoch 484/500\n",
            "52/52 [==============================] - 1s 24ms/step - loss: 1.7122 - accuracy: 0.4414\n",
            "Epoch 485/500\n",
            "52/52 [==============================] - 1s 24ms/step - loss: 1.7204 - accuracy: 0.4410\n",
            "Epoch 486/500\n",
            "52/52 [==============================] - 1s 24ms/step - loss: 1.7428 - accuracy: 0.4341\n",
            "Epoch 487/500\n",
            "52/52 [==============================] - 1s 24ms/step - loss: 1.7593 - accuracy: 0.4276\n",
            "Epoch 488/500\n",
            "52/52 [==============================] - 1s 24ms/step - loss: 1.6969 - accuracy: 0.4427\n",
            "Epoch 489/500\n",
            "52/52 [==============================] - 1s 24ms/step - loss: 1.7888 - accuracy: 0.4250\n",
            "Epoch 490/500\n",
            "52/52 [==============================] - 1s 24ms/step - loss: 1.7697 - accuracy: 0.4273\n",
            "Epoch 491/500\n",
            "52/52 [==============================] - 1s 25ms/step - loss: 1.7248 - accuracy: 0.4386\n",
            "Epoch 492/500\n",
            "52/52 [==============================] - 1s 24ms/step - loss: 1.7460 - accuracy: 0.4307\n",
            "Epoch 493/500\n",
            "52/52 [==============================] - 1s 24ms/step - loss: 1.7193 - accuracy: 0.4370\n",
            "Epoch 494/500\n",
            "52/52 [==============================] - 1s 24ms/step - loss: 1.7394 - accuracy: 0.4329\n",
            "Epoch 495/500\n",
            "52/52 [==============================] - 1s 24ms/step - loss: 1.6944 - accuracy: 0.4446\n",
            "Epoch 496/500\n",
            "52/52 [==============================] - 1s 24ms/step - loss: 1.7210 - accuracy: 0.4398\n",
            "Epoch 497/500\n",
            "52/52 [==============================] - 1s 24ms/step - loss: 1.7804 - accuracy: 0.4256\n",
            "Epoch 498/500\n",
            "52/52 [==============================] - 1s 24ms/step - loss: 1.7273 - accuracy: 0.4370\n",
            "Epoch 499/500\n",
            "52/52 [==============================] - 1s 24ms/step - loss: 1.7456 - accuracy: 0.4349\n",
            "Epoch 500/500\n",
            "52/52 [==============================] - 1s 24ms/step - loss: 1.7467 - accuracy: 0.4310\n"
          ],
          "name": "stdout"
        },
        {
          "output_type": "execute_result",
          "data": {
            "text/plain": [
              "<tensorflow.python.keras.callbacks.History at 0x7f6808b98278>"
            ]
          },
          "metadata": {
            "tags": []
          },
          "execution_count": 136
        }
      ]
    },
    {
      "cell_type": "markdown",
      "metadata": {
        "id": "AZWdHWL-4wp2"
      },
      "source": [
        "モデルの評価"
      ]
    },
    {
      "cell_type": "code",
      "metadata": {
        "id": "bdCAc2fAKSKA"
      },
      "source": [
        "test_file = glob.glob(\"/content/drive/MyDrive/Colab Notebooks/test_data/*\")"
      ],
      "execution_count": null,
      "outputs": []
    },
    {
      "cell_type": "code",
      "metadata": {
        "id": "saca9MJIMiH5"
      },
      "source": [
        "test_notes_data = []\r\n",
        "for file in test_file:\r\n",
        "    test_chopin = converter.parse(file)\r\n",
        "    a = tone_load(Ts_load(test_chopin))\r\n",
        "    test_notes_data.extend(make_input_data(a))"
      ],
      "execution_count": null,
      "outputs": []
    },
    {
      "cell_type": "code",
      "metadata": {
        "id": "6REhoZW7M58Y"
      },
      "source": [
        "for i in range(len(test_notes_data)):\r\n",
        "    test_notes_data[i] = onkai(test_notes_data[i])"
      ],
      "execution_count": null,
      "outputs": []
    },
    {
      "cell_type": "code",
      "metadata": {
        "id": "ryg3P8ZXM7OY"
      },
      "source": [
        "for r in test_notes_data:\r\n",
        "    for i in range(len(r)):\r\n",
        "        r[i] = r[i].replace('#', '')"
      ],
      "execution_count": null,
      "outputs": []
    },
    {
      "cell_type": "code",
      "metadata": {
        "colab": {
          "base_uri": "https://localhost:8080/"
        },
        "id": "_In-lAYtv1c9",
        "outputId": "afb85c95-cc5f-47dc-ab43-12cf741b2afe"
      },
      "source": [
        "len(test_notes_data)"
      ],
      "execution_count": null,
      "outputs": [
        {
          "output_type": "execute_result",
          "data": {
            "text/plain": [
              "804"
            ]
          },
          "metadata": {
            "tags": []
          },
          "execution_count": 144
        }
      ]
    },
    {
      "cell_type": "code",
      "metadata": {
        "id": "WIZry26lNQUS"
      },
      "source": [
        "t_r = []\r\n",
        "t_i_nd = []\r\n",
        "co = 0\r\n",
        "for n in test_notes_data:\r\n",
        "    co+=1\r\n",
        "    for i in n:\r\n",
        "        t_r.append(i[:])\r\n",
        "    if co % 3 == 0:\r\n",
        "        t_i_nd.append(t_r[:])\r\n",
        "        t_r=[]"
      ],
      "execution_count": null,
      "outputs": []
    },
    {
      "cell_type": "code",
      "metadata": {
        "id": "ARxA0RPnNdBz"
      },
      "source": [
        "t_i_nd2 = []\r\n",
        "t_o_nd = []\r\n",
        "co = 0\r\n",
        "for i in range(len(t_i_nd)):\r\n",
        "    for r in range(len(t_i_nd[i])):\r\n",
        "        t_o_nd.append(t_i_nd[i][r][:])\r\n",
        "        t_i_nd2.append(t_i_nd[i][:])\r\n",
        "        t_i_nd2[co][r] = \"None\"\r\n",
        "        co += 1"
      ],
      "execution_count": null,
      "outputs": []
    },
    {
      "cell_type": "code",
      "metadata": {
        "id": "DTPvnfnw2Ozt"
      },
      "source": [
        "def getNearestValue(list, num):\r\n",
        "    idx = np.abs(np.asarray(list) - num).argmin()\r\n",
        "    return list[idx]"
      ],
      "execution_count": null,
      "outputs": []
    },
    {
      "cell_type": "markdown",
      "metadata": {
        "id": "wsZsapH04038"
      },
      "source": [
        "辞書に存在しない音符があった場合、辞書の中に存在するその音符に最も近い音符を返す関数"
      ]
    },
    {
      "cell_type": "code",
      "metadata": {
        "id": "6yZoMj2PpjVQ"
      },
      "source": [
        "def search_near_note(n_note):\r\n",
        "  note_index = []\r\n",
        "\r\n",
        "  all_notes = {\"A0\":1,\"B0\":2,\"C1\":3,\"D1\":4,\"E1\":5,\"F1\":6,\"G1\":7,\"A1\":8,\"B1\":9,\r\n",
        "               \"C2\":10,\"D2\":11,\"E2\":12,\"F2\":13,\"G2\":14,\"A2\":15,\"B2\":16,\r\n",
        "               \"C3\":17,\"D3\":18,\"E3\":19,\"F3\":20,\"G3\":21,\"A3\":22,\"B3\":23,\r\n",
        "               \"C4\":24,\"D4\":25,\"E4\":26,\"F4\":27,\"G4\":28,\"A4\":29,\"B4\":30,\r\n",
        "               \"C5\":31,\"D5\":32,\"E5\":33,\"F5\":34,\"G5\":35,\"A5\":36,\"B5\":37,\r\n",
        "               \"C6\":38,\"D6\":39,\"E6\":40,\"F6\":41,\"G6\":42,\"A6\":43,\"B6\":44,\r\n",
        "               \"C7\":45,\"D7\":46,\"E7\":47,\"F7\":48,\"G7\":49,\"A7\":50,\"B7\":51,\"C8\":52}\r\n",
        "\r\n",
        "  r = re.compile(r'(\\w+)')\r\n",
        "  for i in list(notes_dict.keys())[2:]:\r\n",
        "    sum=0\r\n",
        "    r_note = re.findall(r,i)\r\n",
        "    for n in r_note:\r\n",
        "      sum += all_notes[n]\r\n",
        "    note_index.append([sum,len(i)])\r\n",
        "  \r\n",
        "  r_note2 = re.findall(r,n_note)\r\n",
        "  sum2=0\r\n",
        "  for i in r_note2:\r\n",
        "    sum2 += all_notes[i]\r\n",
        "  note_index2 = [x[0] for x in note_index if x[1]==len(n_note)]\r\n",
        "  before_index = [x[0] for x in note_index if x[1] > len(n_note)]\r\n",
        "  return note_index2.index(getNearestValue(note_index2,sum2)) + len(before_index) + 2"
      ],
      "execution_count": null,
      "outputs": []
    },
    {
      "cell_type": "code",
      "metadata": {
        "id": "JpNOwUmFN4QS"
      },
      "source": [
        "for r in t_i_nd2:\r\n",
        "    for i in range(len(r)):\r\n",
        "      try:    \r\n",
        "        r[i] = notes_dict[r[i]]\r\n",
        "      except KeyError:\r\n",
        "        r[i] = search_near_note(r[i])\r\n",
        "for r in range(len(t_o_nd)):\r\n",
        "  try:\r\n",
        "    t_o_nd[r] = notes_dict[t_o_nd[r]]\r\n",
        "  except KeyError:\r\n",
        "    t_o_nd[r] = search_near_note(t_o_nd[r])"
      ],
      "execution_count": null,
      "outputs": []
    },
    {
      "cell_type": "code",
      "metadata": {
        "colab": {
          "base_uri": "https://localhost:8080/"
        },
        "id": "uqA5SIp5OI_u",
        "outputId": "09543d3b-033d-4a11-8ecf-7c5d87965f32"
      },
      "source": [
        "print(len(t_i_nd2))\r\n",
        "print(len(t_o_nd))"
      ],
      "execution_count": null,
      "outputs": [
        {
          "output_type": "stream",
          "text": [
            "3216\n",
            "3216\n"
          ],
          "name": "stdout"
        }
      ]
    },
    {
      "cell_type": "code",
      "metadata": {
        "id": "lM4XCPwsObV9"
      },
      "source": [
        "notes_test_input_data = np.array(t_i_nd2)\r\n",
        "notes_test_output_data = np.array(t_o_nd)"
      ],
      "execution_count": null,
      "outputs": []
    },
    {
      "cell_type": "code",
      "metadata": {
        "id": "1VSrTIW6OgQL"
      },
      "source": [
        "notes_test_output_data=np_utils.to_categorical(notes_test_output_data,max_length+1)"
      ],
      "execution_count": null,
      "outputs": []
    },
    {
      "cell_type": "code",
      "metadata": {
        "colab": {
          "base_uri": "https://localhost:8080/"
        },
        "id": "3Km-fVnYOjYG",
        "outputId": "47e2587f-b978-4ea8-81cd-cbdb50bcc50c"
      },
      "source": [
        "print(notes_test_input_data.shape , notes_test_output_data.shape)"
      ],
      "execution_count": null,
      "outputs": [
        {
          "output_type": "stream",
          "text": [
            "(3216, 12) (3216, 508)\n"
          ],
          "name": "stdout"
        }
      ]
    },
    {
      "cell_type": "code",
      "metadata": {
        "id": "RlChyuhARNGP"
      },
      "source": [
        "notes_test_input_data = notes_test_input_data / max_length"
      ],
      "execution_count": null,
      "outputs": []
    },
    {
      "cell_type": "code",
      "metadata": {
        "colab": {
          "base_uri": "https://localhost:8080/"
        },
        "id": "ojSeTkbFOxyw",
        "outputId": "b8e63a1a-028c-4403-e18f-a93e8f75a650"
      },
      "source": [
        "test_loss, test_acc = model.evaluate(notes_test_input_data, notes_test_output_data ,batch_size=64)"
      ],
      "execution_count": null,
      "outputs": [
        {
          "output_type": "stream",
          "text": [
            "51/51 [==============================] - 0s 4ms/step - loss: 5.9168 - accuracy: 0.1489\n"
          ],
          "name": "stdout"
        }
      ]
    },
    {
      "cell_type": "code",
      "metadata": {
        "id": "rLKXHVs2eKvC"
      },
      "source": [
        "cho = model.predict(notes_test_input_data)"
      ],
      "execution_count": null,
      "outputs": []
    },
    {
      "cell_type": "markdown",
      "metadata": {
        "id": "B92RMlRp-V9d"
      },
      "source": [
        "近い値を正解とした場合の精度"
      ]
    },
    {
      "cell_type": "code",
      "metadata": {
        "colab": {
          "base_uri": "https://localhost:8080/"
        },
        "id": "k4UY9k_nl8JK",
        "outputId": "0bffeab8-3ea3-4923-9afd-6eb02d84dfe4"
      },
      "source": [
        "num1=0\r\n",
        "num2=0\r\n",
        "for i in range(len(notes_test_output_data)):\r\n",
        "  dis = int(np.where(notes_test_output_data[i] == 1)[0]) - int(np.where(cho[i] == max(cho[i]))[0])\r\n",
        "  if dis >5: num1+=1\r\n",
        "  elif dis <=5: num2+=1\r\n",
        "print(num2/(num1+num2))"
      ],
      "execution_count": null,
      "outputs": [
        {
          "output_type": "stream",
          "text": [
            "0.6246890547263682\n"
          ],
          "name": "stdout"
        }
      ]
    },
    {
      "cell_type": "markdown",
      "metadata": {
        "id": "Xn97NY1y-396"
      },
      "source": [
        "モデルの保存"
      ]
    },
    {
      "cell_type": "code",
      "metadata": {
        "id": "oeVcuH4jnNGf"
      },
      "source": [
        "model.save(\"ChopinMazurekModelUnder.h5\")"
      ],
      "execution_count": null,
      "outputs": []
    },
    {
      "cell_type": "code",
      "metadata": {
        "id": "D--g9wdynp00"
      },
      "source": [
        "model.save_weights(\"ChopinMazurekWeigthsUnder.h5\")"
      ],
      "execution_count": null,
      "outputs": []
    }
  ]
}
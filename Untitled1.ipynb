{
  "nbformat": 4,
  "nbformat_minor": 0,
  "metadata": {
    "colab": {
      "name": "Untitled1.ipynb",
      "provenance": [],
      "mount_file_id": "1uFO6osDHUzouhB2WPFGl47bNARk-BTvB",
      "authorship_tag": "ABX9TyN8ExfrTOPgO8uuRLgQTbqJ",
      "include_colab_link": true
    },
    "kernelspec": {
      "name": "python3",
      "display_name": "Python 3"
    },
    "accelerator": "GPU"
  },
  "cells": [
    {
      "cell_type": "markdown",
      "metadata": {
        "id": "view-in-github",
        "colab_type": "text"
      },
      "source": [
        "<a href=\"https://colab.research.google.com/github/shimizu223/chopinmazr/blob/main/Untitled1.ipynb\" target=\"_parent\"><img src=\"https://colab.research.google.com/assets/colab-badge.svg\" alt=\"Open In Colab\"/></a>"
      ]
    },
    {
      "cell_type": "code",
      "metadata": {
        "id": "DKhCQKAx9z-f",
        "collapsed": true
      },
      "source": [
        "import tensorflow as tf\n",
        "tf.test.gpu_device_name()"
      ],
      "execution_count": null,
      "outputs": []
    },
    {
      "cell_type": "markdown",
      "metadata": {
        "id": "Pntah2easRc9"
      },
      "source": [
        "必要なパッケージのインポート"
      ]
    },
    {
      "cell_type": "code",
      "metadata": {
        "id": "zZ1j5Z4l95ij"
      },
      "source": [
        "from music21 import *\n",
        "import glob\n",
        "import re\n",
        "import numpy as np\n",
        "import random\n",
        "import pathlib\n",
        "from decimal import Decimal"
      ],
      "execution_count": null,
      "outputs": []
    },
    {
      "cell_type": "markdown",
      "metadata": {
        "id": "G0MkVYyosXgX"
      },
      "source": [
        "ファイルを読み込む。データはここからhttp://kern.humdrum.org/search?s=t&keyword=Chopin"
      ]
    },
    {
      "cell_type": "code",
      "metadata": {
        "id": "6TehkVFW-BsM"
      },
      "source": [
        "files = glob.glob(\"/content/drive/MyDrive/Colab Notebooks/train_data/*\")"
      ],
      "execution_count": null,
      "outputs": []
    },
    {
      "cell_type": "markdown",
      "metadata": {
        "id": "bpWRTQ1as_hl"
      },
      "source": [
        "楽譜ファイルから小節だけを取り出す関数。\n",
        "ト音記号とヘ音記号を別々に学習させているので、必要な方を取り出す。\n",
        "ト音記号が<music21.stream.Part spine_1>、\n",
        "ヘ音記号が<music21.stream.Part spine_0>"
      ]
    },
    {
      "cell_type": "code",
      "metadata": {
        "id": "3hPwc2Gt-0yO"
      },
      "source": [
        "def Ts_load(file):\n",
        "    Msure = []\n",
        "\n",
        "    for i in file:\n",
        "            if str(i) == '<music21.stream.Part spine_0>':\n",
        "                part = i\n",
        "                for n in part:\n",
        "                    if isinstance(n, stream.Measure) and n.quarterLength >= 3:\n",
        "                        Msure.append(n)\n",
        "                break\n",
        "    return Msure"
      ],
      "execution_count": null,
      "outputs": []
    },
    {
      "cell_type": "markdown",
      "metadata": {
        "id": "FOPrUkE5tKnb"
      },
      "source": [
        "1小節を16分音符(0.25秒)のみで表現する。マズルカは4分の3拍子なので16分音符が4個×3の計12個という形になる。tone_load関数は連符、32分音符16分音符で表現できるように音符の長さを調節する。make_input_data関数は1小節あたり4*3の配列に保存する。"
      ]
    },
    {
      "cell_type": "code",
      "metadata": {
        "id": "LyttH8PK-10A"
      },
      "source": [
        "def tone_load(Ts_notes):\n",
        "    for cho in Ts_notes:\n",
        "\n",
        "        flag = True\n",
        "\n",
        "        for notes in cho:\n",
        "\n",
        "            if isinstance(notes, stream.Voice):\n",
        "\n",
        "                flag = False\n",
        "\n",
        "                for no in notes:\n",
        "                    if no.quarterLength % 0.25 != 0.0:\n",
        "\n",
        "                        if no.quarterLength < 0.35:\n",
        "                            no.quarterLength = 0.25\n",
        "\n",
        "                        elif no.quarterLength < 0.65:\n",
        "                            no.quarterLength = 0.25\n",
        "\n",
        "                        elif no.quarterLength < 1.0:\n",
        "                            no.quarterLength = 0.75\n",
        "\n",
        "\n",
        "                sumn = Decimal(0)\n",
        "                max_note = 0\n",
        "                min_note = 0\n",
        "                for i in notes:\n",
        "                    sumn += Decimal(str(i.quarterLength))\n",
        "                while sumn != 3.0:\n",
        "                    maxn = 0\n",
        "                    minn = 100\n",
        "                    if sumn > 3:\n",
        "                        for i in range(len(notes)):\n",
        "                            if isinstance(notes[i],note.Note) or isinstance(notes[i],chord.Chord) or isinstance(notes[i],note.Rest):\n",
        "                                if notes[i].quarterLength > maxn:\n",
        "                                    maxn = notes[i].quarterLength\n",
        "                                    max_note = i\n",
        "                        notes[max_note].quarterLength = notes[max_note].quarterLength - 0.25\n",
        "                    elif sumn < 3:\n",
        "                        for i in range(len(notes)):\n",
        "                            if isinstance(notes[i],note.Note) or isinstance(notes[i],chord.Chord) or isinstance(notes[i],note.Rest):\n",
        "                                if notes[i].quarterLength < 1.0 and notes[i].quarterLength < minn:\n",
        "                                    minn = notes[i].quarterLength\n",
        "                                    min_note = i\n",
        "                        notes[min_note].quarterLength = notes[min_note].quarterLength + 0.25\n",
        "                    sumn = Decimal(0)\n",
        "                    for i in notes:\n",
        "                        sumn += Decimal(str(i.quarterLength))\n",
        "\n",
        "            if isinstance(notes,note.Note) or isinstance(notes,chord.Chord) or isinstance(notes,note.Rest):\n",
        "                if notes.quarterLength % 0.25 != 0.0:\n",
        "\n",
        "                    if notes.quarterLength < 0.35:\n",
        "                        notes.quarterLength = 0.25\n",
        "\n",
        "                    elif notes.quarterLength < 0.65:\n",
        "                        notes.quarterLength = 0.5\n",
        "\n",
        "                    elif notes.quarterLength < 1.0:\n",
        "                        notes.quarterLength = 0.75\n",
        "\n",
        "        if flag:\n",
        "            max_note = 0\n",
        "            min_note = 0\n",
        "            sumn = Decimal(0)\n",
        "            for i in cho:\n",
        "                sumn += Decimal(str(i.quarterLength))\n",
        "\n",
        "            while sumn != 3:\n",
        "                maxn = 0\n",
        "                minn = 100\n",
        "                if sumn > 3:\n",
        "                    for i in range(len(cho)):\n",
        "                        if isinstance(cho[i],note.Note) or isinstance(cho[i],chord.Chord) or isinstance(cho[i],note.Rest):\n",
        "                            if cho[i].quarterLength > maxn:\n",
        "                                maxn = cho[i].quarterLength\n",
        "                                max_note = i\n",
        "                    cho[max_note].quarterLength = cho[max_note].quarterLength - 0.25\n",
        "                if sumn < 3:\n",
        "                    for i in range(len(cho)):\n",
        "                        if isinstance(cho[i],note.Note) or isinstance(cho[i],chord.Chord) or isinstance(cho[i],note.Rest):\n",
        "                            if cho[i].quarterLength < 1.0 and cho[i].quarterLength < minn:\n",
        "                                minn = cho[i].quarterLength\n",
        "                                min_note = i\n",
        "                    cho[min_note].quarterLength = cho[min_note].quarterLength + 0.25\n",
        "                sumn = Decimal(0)\n",
        "                for i in cho:\n",
        "                    sumn += Decimal(str(i.quarterLength))\n",
        "\n",
        "    return Ts_notes"
      ],
      "execution_count": null,
      "outputs": []
    },
    {
      "cell_type": "code",
      "metadata": {
        "id": "zUTzcObN-71S"
      },
      "source": [
        "def make_input_data(msure):\n",
        "    input_data = []\n",
        "    co = 0\n",
        "    for cho in msure:\n",
        "        for notes in cho:\n",
        "\n",
        "            if isinstance(notes, stream.Voice):\n",
        "\n",
        "                co0 = -3\n",
        "                co1 = 0\n",
        "\n",
        "                for r in range(len(notes)):\n",
        "                    if isinstance(notes[r], note.Note):\n",
        "                        String_tone = str(notes[r].pitch)\n",
        "                    if isinstance(notes[r], chord.Chord):\n",
        "                        String_tone = ','.join(str(p.pitch) for p in notes[r])\n",
        "                    if isinstance(notes[r], note.Rest):\n",
        "                        String_tone = \"Rest\"\n",
        "\n",
        "                    p_length = int(notes[r].quarterLength*4)\n",
        "\n",
        "                    for n in range(p_length):\n",
        "                        if co % 2 == 0:\n",
        "                            if input_data == []:\n",
        "                                input_data.append([String_tone])\n",
        "                            elif len(input_data[-1]) < 4:\n",
        "                                input_data[-1].append(String_tone)\n",
        "                            elif len(input_data[-1]) >= 4:\n",
        "                                input_data.append([String_tone])\n",
        "                        if co % 2== 1:\n",
        "                            if input_data[co0][co1] == \"Rest\":\n",
        "                                input_data[co0][co1] = (String_tone)\n",
        "                            else:\n",
        "                                if String_tone == \"Rest\":\n",
        "                                    pass\n",
        "                                else:\n",
        "                                    input_data[co0][co1]  = (String_tone) + \",\" + input_data[co0][co1]\n",
        "                            co1 += 1\n",
        "                            if co1 >= 4:\n",
        "                                co0+= 1\n",
        "                                co1 = 0\n",
        "\n",
        "                co += 1\n",
        "\n",
        "            else:\n",
        "\n",
        "                if isinstance(notes, note.Note):\n",
        "                    String_tone = str(notes.pitch)\n",
        "                if isinstance(notes, chord.Chord):\n",
        "                    String_tone = ','.join(str(p.pitch) for p in notes)\n",
        "                if isinstance(notes, note.Rest):\n",
        "                    String_tone = \"Rest\"\n",
        "                p_length = int(notes.quarterLength*4)\n",
        "\n",
        "                for i in range(p_length):\n",
        "                    if input_data == []:\n",
        "                        input_data.append([String_tone])\n",
        "                    elif len(input_data[-1]) < 4:\n",
        "                        input_data[-1].append(String_tone)\n",
        "                    elif len(input_data[-1]) >= 4:\n",
        "                        input_data.append([String_tone])\n",
        "    return input_data"
      ],
      "execution_count": null,
      "outputs": []
    },
    {
      "cell_type": "markdown",
      "metadata": {
        "id": "Ndp3r1SDwNTn"
      },
      "source": [
        "フラット(半音下げる)をシャープ(半音上げる)に変える関数。"
      ]
    },
    {
      "cell_type": "code",
      "metadata": {
        "id": "j2L8CQTm-9Im"
      },
      "source": [
        "def onkai(tones2):\n",
        "    regex = re.compile('\\d+')\n",
        "    scale=[\"C\",\"D\",\"E\",\"F\",\"G\",\"A\",\"B\"]\n",
        "\n",
        "    for i in range(len(tones2)):\n",
        "        for r in range(len(scale)):\n",
        "            if scale[r] in tones2[i] and \"-\" in tones2[i] and not \"--\" in tones2[i]:\n",
        "                if scale[r] == \"C\":\n",
        "                    number = int(regex.findall(tones2[i])[0])\n",
        "                    tones2[i] = tones2[i].replace(tones2[i] , \"B#\" + str(number - 1))\n",
        "                else:\n",
        "                    tones2[i] = tones2[i].replace(scale[r] + \"-\", scale[r-1] + \"#\")\n",
        "\n",
        "            if scale[r] in tones2[i] and \"--\" in tones2[i]:\n",
        "                if scale[r] == \"C\":\n",
        "                    number = int(regex.findall(tones2[i])[0])\n",
        "                    tones2[i] = tones2[i].replace(tones2[i] , \"B\" + str(number - 1))\n",
        "                else:\n",
        "                    tones2[i] = tones2[i].replace(scale[r] + \"--\", scale[r-1])\n",
        "\n",
        "            if scale[r] in tones2[i] and \"##\" in tones2[i]:\n",
        "                if scale[r] == \"B\":\n",
        "                    number = int(regex.findall(tones2[i])[0])\n",
        "                    tones2[i] = tones2[i].replace(tones2[i] , \"C\" + str(number + 1))\n",
        "                else:\n",
        "                    tones2[i] = tones2[i].replace(scale[r] +\"##\", scale[r+1])\n",
        "    return tones2"
      ],
      "execution_count": null,
      "outputs": []
    },
    {
      "cell_type": "markdown",
      "metadata": {
        "id": "ETOg-qn6wIog"
      },
      "source": [
        "学習用のファイルを1個ずつ先ほどの関数に渡して、入力データ用の配列に追加していく。"
      ]
    },
    {
      "cell_type": "code",
      "metadata": {
        "id": "frn-N-_I--le"
      },
      "source": [
        "input_notes_data = []\n",
        "for file in files:\n",
        "    chopin = converter.parse(file)\n",
        "    if str(file) == '/content/drive/MyDrive/Colab Notebooks/train_data/mazurka24-1.krn':\n",
        "        chopin[5].pop(63)\n",
        "    a = tone_load(Ts_load(chopin))\n",
        "    input_notes_data.extend(make_input_data(a))"
      ],
      "execution_count": null,
      "outputs": []
    },
    {
      "cell_type": "code",
      "metadata": {
        "id": "I9F0EHUQ_AQL"
      },
      "source": [
        "for i in range(len(input_notes_data)):\n",
        "    input_notes_data[i] = onkai(input_notes_data[i])"
      ],
      "execution_count": null,
      "outputs": []
    },
    {
      "cell_type": "markdown",
      "metadata": {
        "id": "IKQH0zBGxI9H"
      },
      "source": [
        "私の場合はデータ数を減らすためシャープを消す。動作させなくても問題ない。"
      ]
    },
    {
      "cell_type": "code",
      "metadata": {
        "id": "RAKc1wDo_hez"
      },
      "source": [
        "for r in input_notes_data:\n",
        "    for i in range(len(r)):\n",
        "        r[i] = r[i].replace('#', '')"
      ],
      "execution_count": null,
      "outputs": []
    },
    {
      "cell_type": "markdown",
      "metadata": {
        "id": "axSbvIRmxNIn"
      },
      "source": [
        "先ほど作成した入力データ用の配列の重複を消した辞書用配列を作成する。"
      ]
    },
    {
      "cell_type": "code",
      "metadata": {
        "id": "EnZqXl3G_i7l"
      },
      "source": [
        "notes_dict=[]\n",
        "for i in input_notes_data:\n",
        "    for r in i:\n",
        "        if not r in notes_dict:\n",
        "            notes_dict.append(r[:])"
      ],
      "execution_count": null,
      "outputs": []
    },
    {
      "cell_type": "markdown",
      "metadata": {
        "id": "1lx6lKP7x4F4"
      },
      "source": [
        "ソート用の関数を作る。tone_level関数はドレミファ順にする、extract_num関数は音の高さ順、chord_or_note関数はコードオブジェクトとノートオブジェクトを分けて並べる。"
      ]
    },
    {
      "cell_type": "code",
      "metadata": {
        "id": "Z-PEcIyo_n8A"
      },
      "source": [
        "def tone_level(s):\n",
        "    scale={\"R\":0,\"C\":1,\"D\":2,\"E\":3,\"F\":4,\"G\":5,\"A\":6,\"B\":7}\n",
        "    return scale[s[0]]"
      ],
      "execution_count": null,
      "outputs": []
    },
    {
      "cell_type": "code",
      "metadata": {
        "id": "lPMIc34H_sDI"
      },
      "source": [
        "def extract_num(s, p, ret=0):\n",
        "    l_n = re.findall(p,s)\n",
        "    if len(l_n) != 0:\n",
        "        return sum([int(n) for n in l_n])\n",
        "    else:\n",
        "        return ret"
      ],
      "execution_count": null,
      "outputs": []
    },
    {
      "cell_type": "code",
      "metadata": {
        "id": "c7MxEPi4_tbx"
      },
      "source": [
        "def chord_or_note(s , p ,ret=0):\n",
        "    r = 100\n",
        "    l_n = re.findall(p,s)\n",
        "    return r - len(l_n)"
      ],
      "execution_count": null,
      "outputs": []
    },
    {
      "cell_type": "code",
      "metadata": {
        "id": "xXnz4z5y_xyD"
      },
      "source": [
        "a = sorted(notes_dict, key=lambda s: tone_level(s))"
      ],
      "execution_count": null,
      "outputs": []
    },
    {
      "cell_type": "code",
      "metadata": {
        "id": "d_bcpkw0_z8G"
      },
      "source": [
        "r = re.compile(r'(,+)')\n",
        "b = sorted(a, key=lambda s: chord_or_note(s, r))"
      ],
      "execution_count": null,
      "outputs": []
    },
    {
      "cell_type": "markdown",
      "metadata": {
        "id": "tKsM8kMF1KMz"
      },
      "source": [
        "音符に数字を対応させた辞書を作成する。コードオブジェクトの低音～高音、ノートオブジェクトの低音～高音という順で並べる"
      ]
    },
    {
      "cell_type": "code",
      "metadata": {
        "id": "nZjo7vCb_17t"
      },
      "source": [
        "a_0 = []\n",
        "a_1 = []\n",
        "a_2 = []\n",
        "a_3 = []\n",
        "a_4 = []\n",
        "a_5 = []\n",
        "for i in b:\n",
        "    if len(i) == 17:\n",
        "        a_0.append(i[:])\n",
        "    if len(i) == 14:\n",
        "        a_1.append(i[:])\n",
        "    if len(i) == 11:\n",
        "        a_2.append(i[:])\n",
        "    if len(i) == 8:\n",
        "        a_3.append(i[:])\n",
        "    if len(i) == 5:\n",
        "        a_4.append(i[:])\n",
        "    if len(i) == 2:\n",
        "        a_5.append(i[:])"
      ],
      "execution_count": null,
      "outputs": []
    },
    {
      "cell_type": "code",
      "metadata": {
        "id": "lL8IStOP_3lR"
      },
      "source": [
        "notes_dict=[]"
      ],
      "execution_count": null,
      "outputs": []
    },
    {
      "cell_type": "code",
      "metadata": {
        "id": "3EirK6w0_5V9"
      },
      "source": [
        "p = re.compile(r'(\\d+)')\n",
        "notes_dict.extend(sorted(a_0, key=lambda s: extract_num(s, p)))\n",
        "notes_dict.extend(sorted(a_1, key=lambda s: extract_num(s, p)))\n",
        "notes_dict.extend(sorted(a_2, key=lambda s: extract_num(s, p)))\n",
        "notes_dict.extend(sorted(a_3, key=lambda s: extract_num(s, p)))\n",
        "notes_dict.extend(sorted(a_4, key=lambda s: extract_num(s, p)))\n",
        "notes_dict.extend(sorted(a_5, key=lambda s: extract_num(s, p)))"
      ],
      "execution_count": null,
      "outputs": []
    },
    {
      "cell_type": "code",
      "metadata": {
        "id": "k36wwNMHACmp"
      },
      "source": [
        "notes_dict.insert(0,\"Rest\")"
      ],
      "execution_count": null,
      "outputs": []
    },
    {
      "cell_type": "code",
      "metadata": {
        "id": "1Y1sAPZeAHJI"
      },
      "source": [
        "notes_dict.insert(0,\"None\")"
      ],
      "execution_count": null,
      "outputs": []
    },
    {
      "cell_type": "code",
      "metadata": {
        "id": "wEFHXBadAIwM"
      },
      "source": [
        "notes_dict = dict((data, number) for number, data in enumerate(notes_dict,0))"
      ],
      "execution_count": null,
      "outputs": []
    },
    {
      "cell_type": "markdown",
      "metadata": {
        "id": "WBsM2-ur1uZ0"
      },
      "source": [
        "辞書を保存する"
      ]
    },
    {
      "cell_type": "code",
      "metadata": {
        "id": "QUqswgxJzezl"
      },
      "source": [
        "import pickle\n",
        "\n",
        "def pickle_dump(obj, path):\n",
        "    with open(path, mode='wb') as f:\n",
        "        pickle.dump(obj,f)\n",
        "\n",
        "def pickle_load(path):\n",
        "    with open(path, mode='rb') as f:\n",
        "        data = pickle.load(f)\n",
        "        return data"
      ],
      "execution_count": null,
      "outputs": []
    },
    {
      "cell_type": "code",
      "metadata": {
        "id": "cn4H5MNrzfk9"
      },
      "source": [
        "pickle_dump(notes_dict, './mydict1.pickle')"
      ],
      "execution_count": null,
      "outputs": []
    },
    {
      "cell_type": "markdown",
      "metadata": {
        "id": "izoOGlqs1yTI"
      },
      "source": [
        "4×3×n(小節の数)で構成されている入力データ用の配列を12×nの形に整形する。"
      ]
    },
    {
      "cell_type": "code",
      "metadata": {
        "id": "szimaMF6AK9d"
      },
      "source": [
        "r = []\n",
        "i_nd = []\n",
        "co = 0\n",
        "for n in input_notes_data:\n",
        "    co+=1\n",
        "    for i in n:\n",
        "        r.append(i[:])\n",
        "    if co % 3 == 0:\n",
        "        i_nd.append(r[:])\n",
        "        r=[]"
      ],
      "execution_count": null,
      "outputs": []
    },
    {
      "cell_type": "markdown",
      "metadata": {
        "id": "yxodVV2s2qr6"
      },
      "source": [
        "12個のデータを1個ずつNoneに置き換えて、12×12×nの形に整形する。Noneにしたところのデータは答えのデータ用配列に追加していく。"
      ]
    },
    {
      "cell_type": "code",
      "metadata": {
        "id": "SJgT2mLbAgkt"
      },
      "source": [
        "i_nd2 = []\n",
        "o_nd = []\n",
        "co = 0\n",
        "for i in range(len(i_nd)):\n",
        "    for r in range(len(i_nd[i])):\n",
        "        o_nd.append(i_nd[i][r][:])\n",
        "        i_nd2.append(i_nd[i][:])\n",
        "        i_nd2[co][r] = \"None\"\n",
        "        co += 1"
      ],
      "execution_count": null,
      "outputs": []
    },
    {
      "cell_type": "markdown",
      "metadata": {
        "id": "4l_BQF_P3eya"
      },
      "source": [
        "辞書を使い入力データ用の配列と答えデータ用の配列を数値化する。"
      ]
    },
    {
      "cell_type": "code",
      "metadata": {
        "id": "A2IS09XOAh80"
      },
      "source": [
        "for r in i_nd2:\n",
        "    for i in range(len(r)):\n",
        "        r[i] = notes_dict[r[i]]\n",
        "for r in range(len(o_nd)):\n",
        "  o_nd[r] = notes_dict[o_nd[r]]"
      ],
      "execution_count": null,
      "outputs": []
    },
    {
      "cell_type": "code",
      "metadata": {
        "id": "nqWEXPK9Ax9i"
      },
      "source": [
        "from keras.utils import np_utils\n",
        "from tensorflow.keras.models import Sequential\n",
        "from tensorflow.keras.layers import Dense, Dropout, Activation, Lambda\n",
        "from tensorflow.keras.callbacks import ModelCheckpoint\n",
        "from tensorflow.keras.optimizers import Adam"
      ],
      "execution_count": null,
      "outputs": []
    },
    {
      "cell_type": "markdown",
      "metadata": {
        "id": "SBeWmF1B3vSD"
      },
      "source": [
        "モデルを作成する。ニューラルネットワークを使い、2000×2層、1000×4層、500×6層の計12層。"
      ]
    },
    {
      "cell_type": "code",
      "metadata": {
        "id": "bkr-WNyXLWtR"
      },
      "source": [
        "max_length =  max(notes_dict.values())"
      ],
      "execution_count": null,
      "outputs": []
    },
    {
      "cell_type": "code",
      "metadata": {
        "id": "XmkbI_sFA0-a"
      },
      "source": [
        "model = Sequential()\n",
        "model.add(Dense(2000, input_dim = 12, activation='relu'))\n",
        "model.add(Dropout(0.2))\n",
        "model.add(Dense(2000, input_dim = 12, activation='relu'))\n",
        "model.add(Dropout(0.2))\n",
        "model.add(Dense(1000, activation='relu'))\n",
        "model.add(Dropout(0.2))\n",
        "model.add(Dense(1000, activation='relu'))\n",
        "model.add(Dropout(0.2))\n",
        "model.add(Dense(1000, activation='relu'))\n",
        "model.add(Dropout(0.2))\n",
        "model.add(Dense(1000, activation='relu'))\n",
        "model.add(Dropout(0.2))\n",
        "model.add(Dense(500, activation='relu'))\n",
        "model.add(Dropout(0.2))\n",
        "model.add(Dense(500, activation='relu'))\n",
        "model.add(Dropout(0.2))\n",
        "model.add(Dense(500, activation='relu'))\n",
        "model.add(Dropout(0.2))\n",
        "model.add(Dense(500, activation='relu'))\n",
        "model.add(Dropout(0.2))\n",
        "model.add(Dense(500, activation='relu'))\n",
        "model.add(Dropout(0.2))\n",
        "model.add(Dense(500, activation='relu'))\n",
        "model.add(Dropout(0.2))\n",
        "model.add(Dense(max_length + 1, activation='softmax'))"
      ],
      "execution_count": null,
      "outputs": []
    },
    {
      "cell_type": "code",
      "metadata": {
        "id": "mTpWWH7KIUw6"
      },
      "source": [
        "model.compile(loss=\"categorical_crossentropy\", optimizer=Adam(lr=0.001), metrics=['accuracy'],)"
      ],
      "execution_count": null,
      "outputs": []
    },
    {
      "cell_type": "markdown",
      "metadata": {
        "id": "yim4fLHl4d1N"
      },
      "source": [
        "tensorflowで扱えるようにnumpy配列化する。"
      ]
    },
    {
      "cell_type": "code",
      "metadata": {
        "id": "xvOcnvb_Ivst"
      },
      "source": [
        "notes_input_data = np.array(i_nd2)\n",
        "notes_output_data = np.array(o_nd)"
      ],
      "execution_count": null,
      "outputs": []
    },
    {
      "cell_type": "code",
      "metadata": {
        "id": "5Qt2dxkLKnJh"
      },
      "source": [
        "notes_output_data=np_utils.to_categorical(notes_output_data)"
      ],
      "execution_count": null,
      "outputs": []
    },
    {
      "cell_type": "markdown",
      "metadata": {
        "id": "bjqUSsZ54rWO"
      },
      "source": [
        "正規化"
      ]
    },
    {
      "cell_type": "code",
      "metadata": {
        "id": "P-szKDYoD5_v"
      },
      "source": [
        "notes_input_data = notes_input_data / max_length"
      ],
      "execution_count": null,
      "outputs": []
    },
    {
      "cell_type": "markdown",
      "metadata": {
        "id": "CgLBhZhC4tvY"
      },
      "source": [
        "学習"
      ]
    },
    {
      "cell_type": "code",
      "metadata": {
        "id": "mizGc72rJZVZ"
      },
      "source": [
        "model.fit(notes_input_data, notes_output_data, epochs=500, batch_size=1024)"
      ],
      "execution_count": null,
      "outputs": []
    },
    {
      "cell_type": "markdown",
      "metadata": {
        "id": "AZWdHWL-4wp2"
      },
      "source": [
        "モデルの評価"
      ]
    },
    {
      "cell_type": "code",
      "metadata": {
        "id": "bdCAc2fAKSKA"
      },
      "source": [
        "test_file = glob.glob(\"/content/drive/MyDrive/Colab Notebooks/test_data/*\")"
      ],
      "execution_count": null,
      "outputs": []
    },
    {
      "cell_type": "code",
      "metadata": {
        "id": "saca9MJIMiH5"
      },
      "source": [
        "test_notes_data = []\n",
        "for file in test_file:\n",
        "    test_chopin = converter.parse(file)\n",
        "    a = tone_load(Ts_load(test_chopin))\n",
        "    test_notes_data.extend(make_input_data(a))"
      ],
      "execution_count": null,
      "outputs": []
    },
    {
      "cell_type": "code",
      "metadata": {
        "id": "6REhoZW7M58Y"
      },
      "source": [
        "for i in range(len(test_notes_data)):\n",
        "    test_notes_data[i] = onkai(test_notes_data[i])"
      ],
      "execution_count": null,
      "outputs": []
    },
    {
      "cell_type": "code",
      "metadata": {
        "id": "ryg3P8ZXM7OY"
      },
      "source": [
        "for r in test_notes_data:\n",
        "    for i in range(len(r)):\n",
        "        r[i] = r[i].replace('#', '')"
      ],
      "execution_count": null,
      "outputs": []
    },
    {
      "cell_type": "code",
      "metadata": {
        "id": "WIZry26lNQUS"
      },
      "source": [
        "t_r = []\n",
        "t_i_nd = []\n",
        "co = 0\n",
        "for n in test_notes_data:\n",
        "    co+=1\n",
        "    for i in n:\n",
        "        t_r.append(i[:])\n",
        "    if co % 3 == 0:\n",
        "        t_i_nd.append(t_r[:])\n",
        "        t_r=[]"
      ],
      "execution_count": null,
      "outputs": []
    },
    {
      "cell_type": "code",
      "metadata": {
        "id": "ARxA0RPnNdBz"
      },
      "source": [
        "t_i_nd2 = []\n",
        "t_o_nd = []\n",
        "co = 0\n",
        "for i in range(len(t_i_nd)):\n",
        "    for r in range(len(t_i_nd[i])):\n",
        "        t_o_nd.append(t_i_nd[i][r][:])\n",
        "        t_i_nd2.append(t_i_nd[i][:])\n",
        "        t_i_nd2[co][r] = \"None\"\n",
        "        co += 1"
      ],
      "execution_count": null,
      "outputs": []
    },
    {
      "cell_type": "code",
      "metadata": {
        "id": "DTPvnfnw2Ozt"
      },
      "source": [
        "def getNearestValue(list, num):\n",
        "    idx = np.abs(np.asarray(list) - num).argmin()\n",
        "    return list[idx]"
      ],
      "execution_count": null,
      "outputs": []
    },
    {
      "cell_type": "markdown",
      "metadata": {
        "id": "wsZsapH04038"
      },
      "source": [
        "辞書に存在しない音符があった場合、辞書の中に存在するその音符に最も近い音符を返す関数"
      ]
    },
    {
      "cell_type": "code",
      "metadata": {
        "id": "6yZoMj2PpjVQ"
      },
      "source": [
        "def search_near_note(n_note):\n",
        "  note_index = []\n",
        "\n",
        "  all_notes = {\"A0\":1,\"B0\":2,\"C1\":3,\"D1\":4,\"E1\":5,\"F1\":6,\"G1\":7,\"A1\":8,\"B1\":9,\n",
        "               \"C2\":10,\"D2\":11,\"E2\":12,\"F2\":13,\"G2\":14,\"A2\":15,\"B2\":16,\n",
        "               \"C3\":17,\"D3\":18,\"E3\":19,\"F3\":20,\"G3\":21,\"A3\":22,\"B3\":23,\n",
        "               \"C4\":24,\"D4\":25,\"E4\":26,\"F4\":27,\"G4\":28,\"A4\":29,\"B4\":30,\n",
        "               \"C5\":31,\"D5\":32,\"E5\":33,\"F5\":34,\"G5\":35,\"A5\":36,\"B5\":37,\n",
        "               \"C6\":38,\"D6\":39,\"E6\":40,\"F6\":41,\"G6\":42,\"A6\":43,\"B6\":44,\n",
        "               \"C7\":45,\"D7\":46,\"E7\":47,\"F7\":48,\"G7\":49,\"A7\":50,\"B7\":51,\"C8\":52}\n",
        "\n",
        "  r = re.compile(r'(\\w+)')\n",
        "  for i in list(notes_dict.keys())[2:]:\n",
        "    sum=0\n",
        "    r_note = re.findall(r,i)\n",
        "    for n in r_note:\n",
        "      sum += all_notes[n]\n",
        "    note_index.append([sum,len(i)])\n",
        "\n",
        "  r_note2 = re.findall(r,n_note)\n",
        "  sum2=0\n",
        "  for i in r_note2:\n",
        "    sum2 += all_notes[i]\n",
        "  note_index2 = [x[0] for x in note_index if x[1]==len(n_note)]\n",
        "  before_index = [x[0] for x in note_index if x[1] > len(n_note)]\n",
        "  return note_index2.index(getNearestValue(note_index2,sum2)) + len(before_index) + 2"
      ],
      "execution_count": null,
      "outputs": []
    },
    {
      "cell_type": "code",
      "metadata": {
        "id": "JpNOwUmFN4QS"
      },
      "source": [
        "for r in t_i_nd2:\n",
        "    for i in range(len(r)):\n",
        "      try:\n",
        "        r[i] = notes_dict[r[i]]\n",
        "      except KeyError:\n",
        "        r[i] = search_near_note(r[i])\n",
        "for r in range(len(t_o_nd)):\n",
        "  try:\n",
        "    t_o_nd[r] = notes_dict[t_o_nd[r]]\n",
        "  except KeyError:\n",
        "    t_o_nd[r] = search_near_note(t_o_nd[r])"
      ],
      "execution_count": null,
      "outputs": []
    },
    {
      "cell_type": "code",
      "metadata": {
        "colab": {
          "base_uri": "https://localhost:8080/"
        },
        "id": "uqA5SIp5OI_u",
        "outputId": "09543d3b-033d-4a11-8ecf-7c5d87965f32"
      },
      "source": [
        "print(len(t_i_nd2))\n",
        "print(len(t_o_nd))"
      ],
      "execution_count": null,
      "outputs": [
        {
          "output_type": "stream",
          "text": [
            "3216\n",
            "3216\n"
          ],
          "name": "stdout"
        }
      ]
    },
    {
      "cell_type": "code",
      "metadata": {
        "id": "lM4XCPwsObV9"
      },
      "source": [
        "notes_test_input_data = np.array(t_i_nd2)\n",
        "notes_test_output_data = np.array(t_o_nd)"
      ],
      "execution_count": null,
      "outputs": []
    },
    {
      "cell_type": "code",
      "metadata": {
        "id": "1VSrTIW6OgQL"
      },
      "source": [
        "notes_test_output_data=np_utils.to_categorical(notes_test_output_data,max_length+1)"
      ],
      "execution_count": null,
      "outputs": []
    },
    {
      "cell_type": "code",
      "metadata": {
        "id": "RlChyuhARNGP"
      },
      "source": [
        "notes_test_input_data = notes_test_input_data / max_length"
      ],
      "execution_count": null,
      "outputs": []
    },
    {
      "cell_type": "code",
      "metadata": {
        "colab": {
          "base_uri": "https://localhost:8080/"
        },
        "id": "ojSeTkbFOxyw",
        "outputId": "b8e63a1a-028c-4403-e18f-a93e8f75a650"
      },
      "source": [
        "test_loss, test_acc = model.evaluate(notes_test_input_data, notes_test_output_data ,batch_size=64)"
      ],
      "execution_count": null,
      "outputs": [
        {
          "output_type": "stream",
          "text": [
            "51/51 [==============================] - 0s 4ms/step - loss: 5.9168 - accuracy: 0.1489\n"
          ],
          "name": "stdout"
        }
      ]
    },
    {
      "cell_type": "code",
      "metadata": {
        "id": "rLKXHVs2eKvC"
      },
      "source": [
        "cho = model.predict(notes_test_input_data)"
      ],
      "execution_count": null,
      "outputs": []
    },
    {
      "cell_type": "markdown",
      "metadata": {
        "id": "B92RMlRp-V9d"
      },
      "source": [
        "近い値を正解とした場合の精度"
      ]
    },
    {
      "cell_type": "code",
      "metadata": {
        "colab": {
          "base_uri": "https://localhost:8080/"
        },
        "id": "k4UY9k_nl8JK",
        "outputId": "0bffeab8-3ea3-4923-9afd-6eb02d84dfe4"
      },
      "source": [
        "num1=0\n",
        "num2=0\n",
        "for i in range(len(notes_test_output_data)):\n",
        "  dis = int(np.where(notes_test_output_data[i] == 1)[0]) - int(np.where(cho[i] == max(cho[i]))[0])\n",
        "  if dis >5: num1+=1\n",
        "  elif dis <=5: num2+=1\n",
        "print(num2/(num1+num2))"
      ],
      "execution_count": null,
      "outputs": [
        {
          "output_type": "stream",
          "text": [
            "0.6246890547263682\n"
          ],
          "name": "stdout"
        }
      ]
    },
    {
      "cell_type": "markdown",
      "metadata": {
        "id": "Xn97NY1y-396"
      },
      "source": [
        "モデルの保存"
      ]
    },
    {
      "cell_type": "code",
      "metadata": {
        "id": "oeVcuH4jnNGf"
      },
      "source": [
        "model.save(\"ChopinMazurekModelUnder.h5\")"
      ],
      "execution_count": null,
      "outputs": []
    },
    {
      "cell_type": "code",
      "metadata": {
        "id": "D--g9wdynp00"
      },
      "source": [
        "model.save_weights(\"ChopinMazurekWeigthsUnder.h5\")"
      ],
      "execution_count": null,
      "outputs": []
    }
  ]
}